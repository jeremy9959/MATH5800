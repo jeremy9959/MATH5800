{
 "cells": [
  {
   "cell_type": "code",
   "execution_count": 1,
   "metadata": {},
   "outputs": [],
   "source": [
    "import torch\n",
    "import torchvision\n",
    "from torch import nn, optim\n",
    "from visdom import Visdom"
   ]
  },
  {
   "cell_type": "code",
   "execution_count": 2,
   "metadata": {},
   "outputs": [],
   "source": [
    "tr = torchvision.transforms.Compose([torchvision.transforms.ToTensor()])\n",
    "\n",
    "mnist_data = torchvision.datasets.MNIST(\"mnist_data\", download=True, transform=tr)\n",
    "test_data = torchvision.datasets.MNIST(\"test_data\", download=True, train=False, transform=tr)\n",
    "\n",
    "dataloader = torch.utils.data.DataLoader(mnist_data, batch_size=64, shuffle=True)\n",
    "testloader = torch.utils.data.DataLoader(test_data, batch_size=64, shuffle=True)"
   ]
  },
  {
   "cell_type": "code",
   "execution_count": 3,
   "metadata": {},
   "outputs": [],
   "source": [
    "class NN1(nn.Module):\n",
    "    def __init__(self):\n",
    "        super(NN1, self).__init__()\n",
    "        self.conv1 = nn.Conv2d(1, 3, 3)\n",
    "        self.conv2 = nn.Conv2d(3, 2, 5)\n",
    "        self.linear = nn.Linear(968, 10)\n",
    "        \n",
    "        self.relu = nn.ReLU()\n",
    "        self.softmax = nn.LogSoftmax(dim=1)\n",
    "        \n",
    "    def forward(self,X):\n",
    "        n = X.size(0)\n",
    "        \n",
    "        X = self.relu(self.conv1(X))\n",
    "        X = self.relu(self.conv2(X))\n",
    "        \n",
    "        X = X.view(n,-1)\n",
    "        \n",
    "        X = self.softmax(self.linear(X))\n",
    "        return X\n",
    "        "
   ]
  },
  {
   "cell_type": "code",
   "execution_count": 4,
   "metadata": {},
   "outputs": [
    {
     "name": "stdout",
     "output_type": "stream",
     "text": [
      "Epoch 1 - Training loss: 0.5430530824783896\n",
      "Epoch 2 - Training loss: 0.26923217882972156\n",
      "Epoch 3 - Training loss: 0.17612015482471155\n",
      "Epoch 4 - Training loss: 0.12978620394500398\n",
      "Epoch 5 - Training loss: 0.111921132491556\n",
      "Epoch 6 - Training loss: 0.10299440726850317\n",
      "Epoch 7 - Training loss: 0.09351976033645684\n",
      "Epoch 8 - Training loss: 0.09063726473601658\n",
      "Epoch 9 - Training loss: 0.0858573550264091\n",
      "Epoch 10 - Training loss: 0.08113077103715342\n",
      "Epoch 11 - Training loss: 0.07848187058673564\n",
      "Epoch 12 - Training loss: 0.0765022788445519\n",
      "Epoch 13 - Training loss: 0.07266265648240441\n",
      "Epoch 14 - Training loss: 0.07139358528306894\n",
      "Epoch 15 - Training loss: 0.06871099055691092\n"
     ]
    }
   ],
   "source": [
    "model = NN1()\n",
    "loss_fn = nn.CrossEntropyLoss()\n",
    "params = model.parameters()\n",
    "optimizer = optim.SGD(params = params,lr=.01, momentum=0.9)\n",
    "\n",
    "n_epochs = 15\n",
    "\n",
    "for e in range(n_epochs):\n",
    "    running_loss = 0\n",
    "    for i,(images,labels) in enumerate(dataloader):\n",
    "        \n",
    "        #forward pass\n",
    "        optimizer.zero_grad()\n",
    "        output = model(images)\n",
    "        loss = loss_fn(output, labels)\n",
    "        \n",
    "        #backward pass\n",
    "        loss.backward()\n",
    "        \n",
    "        optimizer.step()\n",
    "        \n",
    "        running_loss += loss.item()\n",
    "    else:\n",
    "        print(\"Epoch {} - Training loss: {}\".format(e+1, running_loss/len(dataloader)))"
   ]
  },
  {
   "cell_type": "code",
   "execution_count": 5,
   "metadata": {},
   "outputs": [
    {
     "name": "stdout",
     "output_type": "stream",
     "text": [
      "Number Of Images Tested = 10000\n",
      "\n",
      "Model Accuracy = 0.9745\n"
     ]
    }
   ],
   "source": [
    "correct_count, all_count = 0, 0\n",
    "for images,labels in testloader:\n",
    "    for i in range(len(labels)):\n",
    "        img = images[i].view(1, 1, 28, 28)\n",
    "        with torch.no_grad():\n",
    "            logps = model(img)\n",
    "        ps = torch.exp(logps)\n",
    "        probab = list(ps.numpy()[0])\n",
    "        pred_label = probab.index(max(probab))\n",
    "        true_label = labels.numpy()[i]\n",
    "        if(true_label == pred_label):\n",
    "            correct_count += 1\n",
    "        all_count += 1\n",
    "\n",
    "print(\"Number Of Images Tested =\", all_count)\n",
    "print(\"\\nModel Accuracy =\", (correct_count/all_count))"
   ]
  },
  {
   "cell_type": "code",
   "execution_count": null,
   "metadata": {},
   "outputs": [],
   "source": []
  }
 ],
 "metadata": {
  "kernelspec": {
   "display_name": "Python 3",
   "language": "python",
   "name": "python3"
  },
  "language_info": {
   "codemirror_mode": {
    "name": "ipython",
    "version": 3
   },
   "file_extension": ".py",
   "mimetype": "text/x-python",
   "name": "python",
   "nbconvert_exporter": "python",
   "pygments_lexer": "ipython3",
   "version": "3.8.1"
  }
 },
 "nbformat": 4,
 "nbformat_minor": 4
}
