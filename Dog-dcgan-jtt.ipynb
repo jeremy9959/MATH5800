{
 "cells": [
  {
   "cell_type": "code",
   "execution_count": 2,
   "metadata": {},
   "outputs": [],
   "source": [
    "import os\n",
    "import numpy as np\n",
    "import pandas as pd\n",
    "import PIL.Image as Image\n",
    "import matplotlib.pyplot as plt\n",
    "import torch\n",
    "from torch import nn,optim\n",
    "from tqdm.notebook import tqdm\n",
    "from torchvision import transforms, datasets"
   ]
  },
  {
   "cell_type": "code",
   "execution_count": 3,
   "metadata": {},
   "outputs": [],
   "source": [
    "dogs = np.loadtxt('./cifar/dogs.csv',delimiter=',')"
   ]
  },
  {
   "cell_type": "code",
   "execution_count": 4,
   "metadata": {},
   "outputs": [],
   "source": [
    "traindatanp = dogs.reshape(5000,3,32,32)\n",
    "traindatanp = traindatanp.astype('float32')\n",
    "traindata = torch.from_numpy(traindatanp)"
   ]
  },
  {
   "cell_type": "code",
   "execution_count": 5,
   "metadata": {},
   "outputs": [],
   "source": [
    "def weights_init(m):\n",
    "    classname = m.__class__.__name__\n",
    "    if classname.find('Conv') != -1:\n",
    "        nn.init.normal_(m.weight.data, 0.0, 0.02)\n",
    "    elif classname.find('BatchNorm') != -1:\n",
    "        nn.init.normal_(m.weight.data, 1.0, 0.02)\n",
    "        nn.init.constant_(m.bias.data, 0)"
   ]
  },
  {
   "cell_type": "code",
   "execution_count": 113,
   "metadata": {},
   "outputs": [],
   "source": [
    "M=100"
   ]
  },
  {
   "cell_type": "code",
   "execution_count": 114,
   "metadata": {},
   "outputs": [],
   "source": [
    "class Generative(nn.Module):\n",
    "    def __init__(self):\n",
    "        super(Generative, self).__init__()\n",
    "        \n",
    "        self.main = nn.Sequential(\n",
    "                # input is Z, going into a convolution\n",
    "                nn.ConvTranspose2d(M, 64, 4, 1, 0, bias=False),\n",
    "                nn.BatchNorm2d(64),\n",
    "                nn.ReLU(True),\n",
    "                # state size. 256 x 4 x 4\n",
    "                nn.ConvTranspose2d(64, 32, 4, 2, 1, bias=False),\n",
    "                nn.BatchNorm2d(32),\n",
    "                nn.ReLU(True),\n",
    "                # state size. 128 x 8 x 8\n",
    "                nn.ConvTranspose2d(32, 16, 4, 2, 1, bias=False),\n",
    "                nn.BatchNorm2d(16),\n",
    "                nn.ReLU(True),\n",
    "                # state size. 64 x 16 x 16\n",
    "                nn.ConvTranspose2d(16, 3, 4, 2, 1, bias=False),\n",
    "                nn.Tanh()\n",
    "                # state size. 3 x 32 x 32\n",
    "            )\n",
    "    \n",
    "    def forward(self, x):\n",
    "        return self.main(x)\n",
    "    "
   ]
  },
  {
   "cell_type": "code",
   "execution_count": 115,
   "metadata": {},
   "outputs": [],
   "source": [
    "class Discriminative(nn.Module):\n",
    "    def __init__(self):\n",
    "        super(Discriminative, self).__init__()\n",
    "        \n",
    "        self.main = nn.Sequential(\n",
    "                # input is 3 x 32 x 32\n",
    "                nn.Conv2d(3, 32, 4, 2, 1, bias=False),\n",
    "                nn.LeakyReLU(0.2, inplace=True),\n",
    "                # state size. 32 x 32 x 32\n",
    "                nn.Conv2d(32, 64, 4, 2, 1, bias=False),\n",
    "                nn.BatchNorm2d(64),\n",
    "                nn.LeakyReLU(0.2, inplace=True),\n",
    "                # state size. 64 x 16 x 16\n",
    "                nn.Conv2d(64, 128, 4, 2, 1, bias=False),\n",
    "                nn.BatchNorm2d(128),\n",
    "                nn.LeakyReLU(0.2, inplace=True),\n",
    "                # state size. 128 x 8 x 8\n",
    "                nn.Conv2d(128, 256, 4, 2, 1, bias=False),\n",
    "                nn.BatchNorm2d(256),\n",
    "                nn.LeakyReLU(0.2, inplace=True),\n",
    "                # state size. 256 x 4 x 4\n",
    "                nn.Conv2d(256, 1, 2, 1, 0, bias=False),\n",
    "                nn.Sigmoid()\n",
    "            )\n",
    "    \n",
    "    def forward(self, x):\n",
    "        return self.main(x)"
   ]
  },
  {
   "cell_type": "code",
   "execution_count": 123,
   "metadata": {},
   "outputs": [
    {
     "data": {
      "application/vnd.jupyter.widget-view+json": {
       "model_id": "28689568110c474f8f9a2af05e9bfffd",
       "version_major": 2,
       "version_minor": 0
      },
      "text/plain": [
       "HBox(children=(FloatProgress(value=0.0), HTML(value='')))"
      ]
     },
     "metadata": {},
     "output_type": "display_data"
    },
    {
     "name": "stdout",
     "output_type": "stream",
     "text": [
      "scale = 5, slope = 1, mean disc_loss = 0, mean_gen_loss = 0, sum = 0, p=0\n",
      "old gen_loss = 0, old disc_loss = 0\n"
     ]
    },
    {
     "data": {
      "application/vnd.jupyter.widget-view+json": {
       "model_id": "38fb195e24f74558b17eb2e8badabbf6",
       "version_major": 2,
       "version_minor": 0
      },
      "text/plain": [
       "HBox(children=(FloatProgress(value=0.0), HTML(value='')))"
      ]
     },
     "metadata": {},
     "output_type": "display_data"
    },
    {
     "name": "stdout",
     "output_type": "stream",
     "text": [
      "scale = 5, slope = 1, mean disc_loss = 86.10614162683487, mean_gen_loss = 72.82814252376556, sum = 158.93428415060043, p=0.4793335199356079\n",
      "old gen_loss = 0, old disc_loss = 0\n"
     ]
    },
    {
     "data": {
      "application/vnd.jupyter.widget-view+json": {
       "model_id": "02d23d172b1f48c4a4cf16c9a712083e",
       "version_major": 2,
       "version_minor": 0
      },
      "text/plain": [
       "HBox(children=(FloatProgress(value=0.0), HTML(value='')))"
      ]
     },
     "metadata": {},
     "output_type": "display_data"
    },
    {
     "name": "stdout",
     "output_type": "stream",
     "text": [
      "scale = 5, slope = 1, mean disc_loss = 76.12449318170547, mean_gen_loss = 70.13136804103851, sum = 146.255861222744, p=0.505925178527832\n",
      "old gen_loss = 72.82814252376556, old disc_loss = 86.10614162683487\n"
     ]
    },
    {
     "data": {
      "application/vnd.jupyter.widget-view+json": {
       "model_id": "0988f533366d4dad8424756e647704de",
       "version_major": 2,
       "version_minor": 0
      },
      "text/plain": [
       "HBox(children=(FloatProgress(value=0.0), HTML(value='')))"
      ]
     },
     "metadata": {},
     "output_type": "display_data"
    },
    {
     "name": "stdout",
     "output_type": "stream",
     "text": [
      "scale = 5, slope = 1, mean disc_loss = 74.67080682516098, mean_gen_loss = 69.5208551287651, sum = 144.1916619539261, p=0.5302504897117615\n",
      "old gen_loss = 70.13136804103851, old disc_loss = 76.12449318170547\n"
     ]
    },
    {
     "data": {
      "application/vnd.jupyter.widget-view+json": {
       "model_id": "f61815b19e604859ab2619ab2f354cca",
       "version_major": 2,
       "version_minor": 0
      },
      "text/plain": [
       "HBox(children=(FloatProgress(value=0.0), HTML(value='')))"
      ]
     },
     "metadata": {},
     "output_type": "display_data"
    },
    {
     "name": "stdout",
     "output_type": "stream",
     "text": [
      "scale = 5, slope = 1, mean disc_loss = 71.83114814758301, mean_gen_loss = 69.39001381397247, sum = 141.22116196155548, p=0.48237329721450806\n",
      "old gen_loss = 69.5208551287651, old disc_loss = 74.67080682516098\n"
     ]
    },
    {
     "data": {
      "application/vnd.jupyter.widget-view+json": {
       "model_id": "c8aa5b7bc5c0402580b94405f3ca9f07",
       "version_major": 2,
       "version_minor": 0
      },
      "text/plain": [
       "HBox(children=(FloatProgress(value=0.0), HTML(value='')))"
      ]
     },
     "metadata": {},
     "output_type": "display_data"
    },
    {
     "name": "stdout",
     "output_type": "stream",
     "text": [
      "scale = 5, slope = 1, mean disc_loss = 70.63567501306534, mean_gen_loss = 69.13759785890579, sum = 139.77327287197113, p=0.5273953080177307\n",
      "old gen_loss = 69.39001381397247, old disc_loss = 71.83114814758301\n"
     ]
    },
    {
     "data": {
      "application/vnd.jupyter.widget-view+json": {
       "model_id": "91378d29e7824fe0ae9d1449e779dc7a",
       "version_major": 2,
       "version_minor": 0
      },
      "text/plain": [
       "HBox(children=(FloatProgress(value=0.0), HTML(value='')))"
      ]
     },
     "metadata": {},
     "output_type": "display_data"
    },
    {
     "name": "stdout",
     "output_type": "stream",
     "text": [
      "scale = 5, slope = 1, mean disc_loss = 69.82044416666031, mean_gen_loss = 69.59270298480988, sum = 139.41314715147018, p=0.4908432960510254\n",
      "old gen_loss = 69.13759785890579, old disc_loss = 70.63567501306534\n"
     ]
    },
    {
     "data": {
      "application/vnd.jupyter.widget-view+json": {
       "model_id": "71db02e3ac9846958f26b2cc2f2a27e3",
       "version_major": 2,
       "version_minor": 0
      },
      "text/plain": [
       "HBox(children=(FloatProgress(value=0.0), HTML(value='')))"
      ]
     },
     "metadata": {},
     "output_type": "display_data"
    },
    {
     "name": "stdout",
     "output_type": "stream",
     "text": [
      "scale = 5, slope = 1, mean disc_loss = 69.95358628034592, mean_gen_loss = 69.33271300792694, sum = 139.28629928827286, p=0.4963732957839966\n",
      "old gen_loss = 69.59270298480988, old disc_loss = 69.82044416666031\n"
     ]
    },
    {
     "data": {
      "application/vnd.jupyter.widget-view+json": {
       "model_id": "3e38718ab64446619605b1023835c534",
       "version_major": 2,
       "version_minor": 0
      },
      "text/plain": [
       "HBox(children=(FloatProgress(value=0.0), HTML(value='')))"
      ]
     },
     "metadata": {},
     "output_type": "display_data"
    },
    {
     "name": "stdout",
     "output_type": "stream",
     "text": [
      "scale = 5, slope = 1, mean disc_loss = 69.28881198167801, mean_gen_loss = 69.08623832464218, sum = 138.3750503063202, p=0.5090082883834839\n",
      "old gen_loss = 69.33271300792694, old disc_loss = 69.95358628034592\n"
     ]
    },
    {
     "data": {
      "application/vnd.jupyter.widget-view+json": {
       "model_id": "92c9388adc52409b848c5732e818895d",
       "version_major": 2,
       "version_minor": 0
      },
      "text/plain": [
       "HBox(children=(FloatProgress(value=0.0), HTML(value='')))"
      ]
     },
     "metadata": {},
     "output_type": "display_data"
    },
    {
     "name": "stdout",
     "output_type": "stream",
     "text": [
      "scale = 5, slope = 1, mean disc_loss = 69.59416282176971, mean_gen_loss = 69.28164553642273, sum = 138.87580835819244, p=0.49751782417297363\n",
      "old gen_loss = 69.08623832464218, old disc_loss = 69.28881198167801\n"
     ]
    },
    {
     "data": {
      "application/vnd.jupyter.widget-view+json": {
       "model_id": "ffcff4278f344101981755784105eeb1",
       "version_major": 2,
       "version_minor": 0
      },
      "text/plain": [
       "HBox(children=(FloatProgress(value=0.0), HTML(value='')))"
      ]
     },
     "metadata": {},
     "output_type": "display_data"
    },
    {
     "name": "stdout",
     "output_type": "stream",
     "text": [
      "scale = 5, slope = 1, mean disc_loss = 69.22449320554733, mean_gen_loss = 69.45411688089371, sum = 138.67861008644104, p=0.4871067702770233\n",
      "old gen_loss = 69.28164553642273, old disc_loss = 69.59416282176971\n"
     ]
    },
    {
     "data": {
      "application/vnd.jupyter.widget-view+json": {
       "model_id": "8a6d69f68e4f49a8845f04bb38da766d",
       "version_major": 2,
       "version_minor": 0
      },
      "text/plain": [
       "HBox(children=(FloatProgress(value=0.0), HTML(value='')))"
      ]
     },
     "metadata": {},
     "output_type": "display_data"
    },
    {
     "name": "stdout",
     "output_type": "stream",
     "text": [
      "scale = 5, slope = 1, mean disc_loss = 69.91770941019058, mean_gen_loss = 69.65615347027779, sum = 139.57386288046837, p=0.5154849886894226\n",
      "old gen_loss = 69.45411688089371, old disc_loss = 69.22449320554733\n"
     ]
    },
    {
     "data": {
      "application/vnd.jupyter.widget-view+json": {
       "model_id": "778096b78ed2403f927170c559eeeab2",
       "version_major": 2,
       "version_minor": 0
      },
      "text/plain": [
       "HBox(children=(FloatProgress(value=0.0), HTML(value='')))"
      ]
     },
     "metadata": {},
     "output_type": "display_data"
    },
    {
     "name": "stdout",
     "output_type": "stream",
     "text": [
      "scale = 5, slope = 1, mean disc_loss = 69.19884043931961, mean_gen_loss = 69.16835278272629, sum = 138.3671932220459, p=0.496553510427475\n",
      "old gen_loss = 69.65615347027779, old disc_loss = 69.91770941019058\n"
     ]
    },
    {
     "data": {
      "application/vnd.jupyter.widget-view+json": {
       "model_id": "5954e793126146b8b61188795001e795",
       "version_major": 2,
       "version_minor": 0
      },
      "text/plain": [
       "HBox(children=(FloatProgress(value=0.0), HTML(value='')))"
      ]
     },
     "metadata": {},
     "output_type": "display_data"
    },
    {
     "name": "stdout",
     "output_type": "stream",
     "text": [
      "scale = 5, slope = 1, mean disc_loss = 67.79932376742363, mean_gen_loss = 68.41540393233299, sum = 136.21472769975662, p=0.6089310050010681\n",
      "old gen_loss = 69.16835278272629, old disc_loss = 69.19884043931961\n"
     ]
    },
    {
     "data": {
      "application/vnd.jupyter.widget-view+json": {
       "model_id": "d2347c8030e34babbb78e4806df0719a",
       "version_major": 2,
       "version_minor": 0
      },
      "text/plain": [
       "HBox(children=(FloatProgress(value=0.0), HTML(value='')))"
      ]
     },
     "metadata": {},
     "output_type": "display_data"
    },
    {
     "name": "stdout",
     "output_type": "stream",
     "text": [
      "scale = 5, slope = 1, mean disc_loss = 67.13376727700233, mean_gen_loss = 67.75935363769531, sum = 134.89312091469765, p=0.31309959292411804\n",
      "old gen_loss = 68.41540393233299, old disc_loss = 67.79932376742363\n"
     ]
    },
    {
     "data": {
      "application/vnd.jupyter.widget-view+json": {
       "model_id": "ab4da9ef99a64f24bd767e9d32331118",
       "version_major": 2,
       "version_minor": 0
      },
      "text/plain": [
       "HBox(children=(FloatProgress(value=0.0), HTML(value='')))"
      ]
     },
     "metadata": {},
     "output_type": "display_data"
    },
    {
     "name": "stdout",
     "output_type": "stream",
     "text": [
      "scale = 5, slope = 1, mean disc_loss = 64.24309186637402, mean_gen_loss = 62.401135459542274, sum = 126.64422732591629, p=0.7298382520675659\n",
      "old gen_loss = 67.75935363769531, old disc_loss = 67.13376727700233\n"
     ]
    },
    {
     "data": {
      "application/vnd.jupyter.widget-view+json": {
       "model_id": "6cd0215686b2476c97a29893424856e8",
       "version_major": 2,
       "version_minor": 0
      },
      "text/plain": [
       "HBox(children=(FloatProgress(value=0.0), HTML(value='')))"
      ]
     },
     "metadata": {},
     "output_type": "display_data"
    },
    {
     "name": "stdout",
     "output_type": "stream",
     "text": [
      "scale = 5, slope = 1, mean disc_loss = 63.20006102323532, mean_gen_loss = 60.34108266234398, sum = 123.5411436855793, p=0.5009453296661377\n",
      "old gen_loss = 62.401135459542274, old disc_loss = 64.24309186637402\n"
     ]
    },
    {
     "data": {
      "application/vnd.jupyter.widget-view+json": {
       "model_id": "0e73d0ee89e44f7d93ab81dccbc6a034",
       "version_major": 2,
       "version_minor": 0
      },
      "text/plain": [
       "HBox(children=(FloatProgress(value=0.0), HTML(value='')))"
      ]
     },
     "metadata": {},
     "output_type": "display_data"
    },
    {
     "name": "stdout",
     "output_type": "stream",
     "text": [
      "scale = 5, slope = 1, mean disc_loss = 53.627728659659624, mean_gen_loss = 55.97142751514912, sum = 109.59915617480874, p=0.28939446806907654\n",
      "old gen_loss = 60.34108266234398, old disc_loss = 63.20006102323532\n"
     ]
    },
    {
     "data": {
      "application/vnd.jupyter.widget-view+json": {
       "model_id": "15b0692dda5e487f92a68db6d0da7988",
       "version_major": 2,
       "version_minor": 0
      },
      "text/plain": [
       "HBox(children=(FloatProgress(value=0.0), HTML(value='')))"
      ]
     },
     "metadata": {},
     "output_type": "display_data"
    },
    {
     "name": "stdout",
     "output_type": "stream",
     "text": [
      "scale = 5, slope = 1, mean disc_loss = 49.42661675810814, mean_gen_loss = 46.58711360767484, sum = 96.01373036578298, p=0.9384497404098511\n",
      "old gen_loss = 55.97142751514912, old disc_loss = 53.627728659659624\n"
     ]
    },
    {
     "data": {
      "application/vnd.jupyter.widget-view+json": {
       "model_id": "e27a0e06d33245a1bc2f1015c77a070d",
       "version_major": 2,
       "version_minor": 0
      },
      "text/plain": [
       "HBox(children=(FloatProgress(value=0.0), HTML(value='')))"
      ]
     },
     "metadata": {},
     "output_type": "display_data"
    },
    {
     "name": "stdout",
     "output_type": "stream",
     "text": [
      "scale = 5, slope = 1, mean disc_loss = 72.87484103441238, mean_gen_loss = 67.72352217882872, sum = 140.5983632132411, p=0.5468533039093018\n",
      "old gen_loss = 46.58711360767484, old disc_loss = 49.42661675810814\n"
     ]
    },
    {
     "data": {
      "application/vnd.jupyter.widget-view+json": {
       "model_id": "e590ec7e100f43d0801162635c245a24",
       "version_major": 2,
       "version_minor": 0
      },
      "text/plain": [
       "HBox(children=(FloatProgress(value=0.0), HTML(value='')))"
      ]
     },
     "metadata": {},
     "output_type": "display_data"
    },
    {
     "name": "stdout",
     "output_type": "stream",
     "text": [
      "scale = 5, slope = 1, mean disc_loss = 54.64213186688721, mean_gen_loss = 52.3861975595355, sum = 107.02832942642272, p=0.5414294600486755\n",
      "old gen_loss = 67.72352217882872, old disc_loss = 72.87484103441238\n"
     ]
    },
    {
     "data": {
      "application/vnd.jupyter.widget-view+json": {
       "model_id": "06b246eaa7a34c7897d06a746fb8e37a",
       "version_major": 2,
       "version_minor": 0
      },
      "text/plain": [
       "HBox(children=(FloatProgress(value=0.0), HTML(value='')))"
      ]
     },
     "metadata": {},
     "output_type": "display_data"
    },
    {
     "name": "stdout",
     "output_type": "stream",
     "text": [
      "scale = 5, slope = 1, mean disc_loss = 51.862579016014934, mean_gen_loss = 51.93024271726608, sum = 103.79282173328102, p=0.4593204855918884\n",
      "old gen_loss = 52.3861975595355, old disc_loss = 54.64213186688721\n"
     ]
    },
    {
     "data": {
      "application/vnd.jupyter.widget-view+json": {
       "model_id": "41daddef5f2b40b68aece86bc8ea1ef4",
       "version_major": 2,
       "version_minor": 0
      },
      "text/plain": [
       "HBox(children=(FloatProgress(value=0.0), HTML(value='')))"
      ]
     },
     "metadata": {},
     "output_type": "display_data"
    },
    {
     "name": "stdout",
     "output_type": "stream",
     "text": [
      "scale = 5, slope = 1, mean disc_loss = 43.50185755267739, mean_gen_loss = 44.90285072103143, sum = 88.40470827370882, p=0.9087560176849365\n",
      "old gen_loss = 51.93024271726608, old disc_loss = 51.862579016014934\n"
     ]
    },
    {
     "data": {
      "application/vnd.jupyter.widget-view+json": {
       "model_id": "8af942b33997441abb043cb9865fe8b2",
       "version_major": 2,
       "version_minor": 0
      },
      "text/plain": [
       "HBox(children=(FloatProgress(value=0.0), HTML(value='')))"
      ]
     },
     "metadata": {},
     "output_type": "display_data"
    },
    {
     "name": "stdout",
     "output_type": "stream",
     "text": [
      "scale = 5, slope = 1, mean disc_loss = 48.10461958497763, mean_gen_loss = 45.51424764841795, sum = 93.61886723339558, p=0.48130789399147034\n",
      "old gen_loss = 44.90285072103143, old disc_loss = 43.50185755267739\n"
     ]
    },
    {
     "data": {
      "application/vnd.jupyter.widget-view+json": {
       "model_id": "982163869daa4a949d98a361c2f5b2c6",
       "version_major": 2,
       "version_minor": 0
      },
      "text/plain": [
       "HBox(children=(FloatProgress(value=0.0), HTML(value='')))"
      ]
     },
     "metadata": {},
     "output_type": "display_data"
    },
    {
     "name": "stdout",
     "output_type": "stream",
     "text": [
      "scale = 5, slope = 1, mean disc_loss = 49.09483613818884, mean_gen_loss = 46.9454494677484, sum = 96.04028560593724, p=0.6885854005813599\n",
      "old gen_loss = 45.51424764841795, old disc_loss = 48.10461958497763\n"
     ]
    },
    {
     "data": {
      "application/vnd.jupyter.widget-view+json": {
       "model_id": "2546564405a749f286592202601a6c12",
       "version_major": 2,
       "version_minor": 0
      },
      "text/plain": [
       "HBox(children=(FloatProgress(value=0.0), HTML(value='')))"
      ]
     },
     "metadata": {},
     "output_type": "display_data"
    },
    {
     "name": "stdout",
     "output_type": "stream",
     "text": [
      "scale = 5, slope = 1, mean disc_loss = 52.45545931532979, mean_gen_loss = 48.919125735759735, sum = 101.37458505108953, p=0.6138995289802551\n",
      "old gen_loss = 46.9454494677484, old disc_loss = 49.09483613818884\n"
     ]
    },
    {
     "data": {
      "application/vnd.jupyter.widget-view+json": {
       "model_id": "fe5cd7b0c23846b2a850f4a23ba5de7d",
       "version_major": 2,
       "version_minor": 0
      },
      "text/plain": [
       "HBox(children=(FloatProgress(value=0.0), HTML(value='')))"
      ]
     },
     "metadata": {},
     "output_type": "display_data"
    },
    {
     "name": "stdout",
     "output_type": "stream",
     "text": [
      "scale = 5, slope = 1, mean disc_loss = 44.19833021610975, mean_gen_loss = 40.954914085567, sum = 85.15324430167675, p=0.7996436953544617\n",
      "old gen_loss = 48.919125735759735, old disc_loss = 52.45545931532979\n"
     ]
    },
    {
     "data": {
      "application/vnd.jupyter.widget-view+json": {
       "model_id": "43d0f643f1ae4a66b61155d8c66a8336",
       "version_major": 2,
       "version_minor": 0
      },
      "text/plain": [
       "HBox(children=(FloatProgress(value=0.0), HTML(value='')))"
      ]
     },
     "metadata": {},
     "output_type": "display_data"
    },
    {
     "name": "stdout",
     "output_type": "stream",
     "text": [
      "scale = 5, slope = 1, mean disc_loss = 35.880797293037176, mean_gen_loss = 39.623764134943485, sum = 75.50456142798066, p=0.8163917064666748\n",
      "old gen_loss = 40.954914085567, old disc_loss = 44.19833021610975\n"
     ]
    },
    {
     "data": {
      "application/vnd.jupyter.widget-view+json": {
       "model_id": "2185b812b12345fba3ea06c5e859babd",
       "version_major": 2,
       "version_minor": 0
      },
      "text/plain": [
       "HBox(children=(FloatProgress(value=0.0), HTML(value='')))"
      ]
     },
     "metadata": {},
     "output_type": "display_data"
    },
    {
     "name": "stdout",
     "output_type": "stream",
     "text": [
      "scale = 6, slope = 2, mean disc_loss = 36.57149730809033, mean_gen_loss = 45.34080521017313, sum = 81.91230251826346, p=0.45060962438583374\n",
      "old gen_loss = 39.623764134943485, old disc_loss = 35.880797293037176\n"
     ]
    },
    {
     "data": {
      "application/vnd.jupyter.widget-view+json": {
       "model_id": "e1c3c688367f4591a3cedaf7dc7682d2",
       "version_major": 2,
       "version_minor": 0
      },
      "text/plain": [
       "HBox(children=(FloatProgress(value=0.0), HTML(value='')))"
      ]
     },
     "metadata": {},
     "output_type": "display_data"
    },
    {
     "name": "stdout",
     "output_type": "stream",
     "text": [
      "scale = 6, slope = 2, mean disc_loss = 73.48913830518723, mean_gen_loss = 67.78989005088806, sum = 141.2790283560753, p=0.4896194040775299\n",
      "old gen_loss = 45.34080521017313, old disc_loss = 36.57149730809033\n"
     ]
    },
    {
     "data": {
      "application/vnd.jupyter.widget-view+json": {
       "model_id": "f31ee20e90a7426fb564cef879530e59",
       "version_major": 2,
       "version_minor": 0
      },
      "text/plain": [
       "HBox(children=(FloatProgress(value=0.0), HTML(value='')))"
      ]
     },
     "metadata": {},
     "output_type": "display_data"
    },
    {
     "name": "stdout",
     "output_type": "stream",
     "text": [
      "scale = 6, slope = 2, mean disc_loss = 63.30781506001949, mean_gen_loss = 61.12998813390732, sum = 124.43780319392681, p=0.6651902198791504\n",
      "old gen_loss = 67.78989005088806, old disc_loss = 73.48913830518723\n"
     ]
    },
    {
     "data": {
      "application/vnd.jupyter.widget-view+json": {
       "model_id": "1c944a17a57741ffba290d9ebfb99b7b",
       "version_major": 2,
       "version_minor": 0
      },
      "text/plain": [
       "HBox(children=(FloatProgress(value=0.0), HTML(value='')))"
      ]
     },
     "metadata": {},
     "output_type": "display_data"
    },
    {
     "name": "stdout",
     "output_type": "stream",
     "text": [
      "scale = 6, slope = 2, mean disc_loss = 33.92800610885024, mean_gen_loss = 36.31761023774743, sum = 70.24561634659767, p=0.9396785497665405\n",
      "old gen_loss = 61.12998813390732, old disc_loss = 63.30781506001949\n"
     ]
    },
    {
     "data": {
      "application/vnd.jupyter.widget-view+json": {
       "model_id": "7ea125b2f4fe4e9b94f3c7c07a3089a0",
       "version_major": 2,
       "version_minor": 0
      },
      "text/plain": [
       "HBox(children=(FloatProgress(value=0.0), HTML(value='')))"
      ]
     },
     "metadata": {},
     "output_type": "display_data"
    },
    {
     "name": "stdout",
     "output_type": "stream",
     "text": [
      "scale = 6, slope = 2, mean disc_loss = 31.460310962051153, mean_gen_loss = 31.455373775213957, sum = 62.91568473726511, p=0.9511213302612305\n",
      "old gen_loss = 36.31761023774743, old disc_loss = 33.92800610885024\n"
     ]
    },
    {
     "data": {
      "application/vnd.jupyter.widget-view+json": {
       "model_id": "e29f68c0893e4188b77e288c715d98b0",
       "version_major": 2,
       "version_minor": 0
      },
      "text/plain": [
       "HBox(children=(FloatProgress(value=0.0), HTML(value='')))"
      ]
     },
     "metadata": {},
     "output_type": "display_data"
    },
    {
     "name": "stdout",
     "output_type": "stream",
     "text": [
      "scale = 6, slope = 2, mean disc_loss = 43.224803203716874, mean_gen_loss = 34.6955854203552, sum = 77.92038862407207, p=0.9086982011795044\n",
      "old gen_loss = 31.455373775213957, old disc_loss = 31.460310962051153\n"
     ]
    },
    {
     "data": {
      "application/vnd.jupyter.widget-view+json": {
       "model_id": "a29e352b6f974b2a887d3b5d11ade98b",
       "version_major": 2,
       "version_minor": 0
      },
      "text/plain": [
       "HBox(children=(FloatProgress(value=0.0), HTML(value='')))"
      ]
     },
     "metadata": {},
     "output_type": "display_data"
    },
    {
     "name": "stdout",
     "output_type": "stream",
     "text": [
      "scale = 6, slope = 2, mean disc_loss = 12.888575282879174, mean_gen_loss = 17.86496950685978, sum = 30.753544789738953, p=0.979354977607727\n",
      "old gen_loss = 34.6955854203552, old disc_loss = 43.224803203716874\n"
     ]
    },
    {
     "data": {
      "application/vnd.jupyter.widget-view+json": {
       "model_id": "41d5e69ef92549e29f92be2056ff0f91",
       "version_major": 2,
       "version_minor": 0
      },
      "text/plain": [
       "HBox(children=(FloatProgress(value=0.0), HTML(value='')))"
      ]
     },
     "metadata": {},
     "output_type": "display_data"
    },
    {
     "name": "stdout",
     "output_type": "stream",
     "text": [
      "scale = 6, slope = 2, mean disc_loss = 18.653105756267905, mean_gen_loss = 23.038522460497916, sum = 41.69162821676582, p=0.8744374513626099\n",
      "old gen_loss = 17.86496950685978, old disc_loss = 12.888575282879174\n"
     ]
    },
    {
     "data": {
      "application/vnd.jupyter.widget-view+json": {
       "model_id": "41858269157646e796d74aa68e16da03",
       "version_major": 2,
       "version_minor": 0
      },
      "text/plain": [
       "HBox(children=(FloatProgress(value=0.0), HTML(value='')))"
      ]
     },
     "metadata": {},
     "output_type": "display_data"
    },
    {
     "name": "stdout",
     "output_type": "stream",
     "text": [
      "scale = 6, slope = 2, mean disc_loss = 18.491845276672393, mean_gen_loss = 20.243315015453845, sum = 38.73516029212624, p=0.6727213263511658\n",
      "old gen_loss = 23.038522460497916, old disc_loss = 18.653105756267905\n"
     ]
    },
    {
     "data": {
      "application/vnd.jupyter.widget-view+json": {
       "model_id": "9181d9c03da14b518e3a7b5370ee09d6",
       "version_major": 2,
       "version_minor": 0
      },
      "text/plain": [
       "HBox(children=(FloatProgress(value=0.0), HTML(value='')))"
      ]
     },
     "metadata": {},
     "output_type": "display_data"
    },
    {
     "name": "stdout",
     "output_type": "stream",
     "text": [
      "scale = 6, slope = 2, mean disc_loss = 29.833151614293456, mean_gen_loss = 29.38980793207884, sum = 59.222959546372294, p=0.9065483808517456\n",
      "old gen_loss = 20.243315015453845, old disc_loss = 18.491845276672393\n"
     ]
    },
    {
     "data": {
      "application/vnd.jupyter.widget-view+json": {
       "model_id": "38638d8d14bc48d7b1f97d26485cf116",
       "version_major": 2,
       "version_minor": 0
      },
      "text/plain": [
       "HBox(children=(FloatProgress(value=0.0), HTML(value='')))"
      ]
     },
     "metadata": {},
     "output_type": "display_data"
    },
    {
     "name": "stdout",
     "output_type": "stream",
     "text": [
      "scale = 6, slope = 2, mean disc_loss = 21.89497232530266, mean_gen_loss = 25.73164400830865, sum = 47.62661633361131, p=0.9490306377410889\n",
      "old gen_loss = 29.38980793207884, old disc_loss = 29.833151614293456\n"
     ]
    },
    {
     "data": {
      "application/vnd.jupyter.widget-view+json": {
       "model_id": "858cf5e9f55a4096ad4b280e346e15df",
       "version_major": 2,
       "version_minor": 0
      },
      "text/plain": [
       "HBox(children=(FloatProgress(value=0.0), HTML(value='')))"
      ]
     },
     "metadata": {},
     "output_type": "display_data"
    },
    {
     "name": "stdout",
     "output_type": "stream",
     "text": [
      "scale = 6, slope = 2, mean disc_loss = 12.256433269474655, mean_gen_loss = 14.383782342076302, sum = 26.640215611550957, p=0.9786762595176697\n",
      "old gen_loss = 25.73164400830865, old disc_loss = 21.89497232530266\n"
     ]
    },
    {
     "data": {
      "application/vnd.jupyter.widget-view+json": {
       "model_id": "c42525c00a4348498cfeda7e66231066",
       "version_major": 2,
       "version_minor": 0
      },
      "text/plain": [
       "HBox(children=(FloatProgress(value=0.0), HTML(value='')))"
      ]
     },
     "metadata": {},
     "output_type": "display_data"
    },
    {
     "name": "stdout",
     "output_type": "stream",
     "text": [
      "scale = 6, slope = 2, mean disc_loss = 33.089102901052684, mean_gen_loss = 34.69888904411346, sum = 67.78799194516614, p=0.9703420996665955\n",
      "old gen_loss = 14.383782342076302, old disc_loss = 12.256433269474655\n"
     ]
    },
    {
     "data": {
      "application/vnd.jupyter.widget-view+json": {
       "model_id": "6573ff7fb0f14534b436d674801672e7",
       "version_major": 2,
       "version_minor": 0
      },
      "text/plain": [
       "HBox(children=(FloatProgress(value=0.0), HTML(value='')))"
      ]
     },
     "metadata": {},
     "output_type": "display_data"
    },
    {
     "name": "stdout",
     "output_type": "stream",
     "text": [
      "scale = 6, slope = 2, mean disc_loss = 18.43251280579716, mean_gen_loss = 20.878392711747438, sum = 39.3109055175446, p=0.9769874215126038\n",
      "old gen_loss = 34.69888904411346, old disc_loss = 33.089102901052684\n"
     ]
    },
    {
     "data": {
      "application/vnd.jupyter.widget-view+json": {
       "model_id": "f34f7736b1de40dcac745fd9a25e16de",
       "version_major": 2,
       "version_minor": 0
      },
      "text/plain": [
       "HBox(children=(FloatProgress(value=0.0), HTML(value='')))"
      ]
     },
     "metadata": {},
     "output_type": "display_data"
    },
    {
     "name": "stdout",
     "output_type": "stream",
     "text": [
      "scale = 6, slope = 2, mean disc_loss = 14.88653343077749, mean_gen_loss = 15.834335203748196, sum = 30.720868634525687, p=0.985795795917511\n",
      "old gen_loss = 20.878392711747438, old disc_loss = 18.43251280579716\n"
     ]
    },
    {
     "data": {
      "application/vnd.jupyter.widget-view+json": {
       "model_id": "a57cbacb856746b4b03df1833faf1205",
       "version_major": 2,
       "version_minor": 0
      },
      "text/plain": [
       "HBox(children=(FloatProgress(value=0.0), HTML(value='')))"
      ]
     },
     "metadata": {},
     "output_type": "display_data"
    },
    {
     "name": "stdout",
     "output_type": "stream",
     "text": [
      "scale = 7, slope = 3, mean disc_loss = 17.51698306342587, mean_gen_loss = 23.32720655295998, sum = 40.84418961638585, p=0.9172340035438538\n",
      "old gen_loss = 15.834335203748196, old disc_loss = 14.88653343077749\n"
     ]
    },
    {
     "data": {
      "application/vnd.jupyter.widget-view+json": {
       "model_id": "4529cd2ef94241388a8012c4ba42fdc3",
       "version_major": 2,
       "version_minor": 0
      },
      "text/plain": [
       "HBox(children=(FloatProgress(value=0.0), HTML(value='')))"
      ]
     },
     "metadata": {},
     "output_type": "display_data"
    },
    {
     "name": "stdout",
     "output_type": "stream",
     "text": [
      "scale = 7, slope = 3, mean disc_loss = 7.8882689736783504, mean_gen_loss = 10.144853660603985, sum = 18.033122634282336, p=0.9950467348098755\n",
      "old gen_loss = 23.32720655295998, old disc_loss = 17.51698306342587\n"
     ]
    },
    {
     "data": {
      "application/vnd.jupyter.widget-view+json": {
       "model_id": "fb9324bac35848e192f6bba6d6bfb5af",
       "version_major": 2,
       "version_minor": 0
      },
      "text/plain": [
       "HBox(children=(FloatProgress(value=0.0), HTML(value='')))"
      ]
     },
     "metadata": {},
     "output_type": "display_data"
    },
    {
     "name": "stdout",
     "output_type": "stream",
     "text": [
      "scale = 7, slope = 3, mean disc_loss = 11.403987548663281, mean_gen_loss = 11.94580456521362, sum = 23.3497921138769, p=0.9877034425735474\n",
      "old gen_loss = 10.144853660603985, old disc_loss = 7.8882689736783504\n"
     ]
    },
    {
     "data": {
      "application/vnd.jupyter.widget-view+json": {
       "model_id": "b7c709bf9ca44925acfba92968e8d155",
       "version_major": 2,
       "version_minor": 0
      },
      "text/plain": [
       "HBox(children=(FloatProgress(value=0.0), HTML(value='')))"
      ]
     },
     "metadata": {},
     "output_type": "display_data"
    },
    {
     "name": "stdout",
     "output_type": "stream",
     "text": [
      "scale = 7, slope = 3, mean disc_loss = 6.5515248734736815, mean_gen_loss = 11.3569299003575, sum = 17.90845477383118, p=0.9944139719009399\n",
      "old gen_loss = 11.94580456521362, old disc_loss = 11.403987548663281\n"
     ]
    },
    {
     "data": {
      "application/vnd.jupyter.widget-view+json": {
       "model_id": "c8f5aacc34ae4399a501b9f075188ecb",
       "version_major": 2,
       "version_minor": 0
      },
      "text/plain": [
       "HBox(children=(FloatProgress(value=0.0), HTML(value='')))"
      ]
     },
     "metadata": {},
     "output_type": "display_data"
    },
    {
     "name": "stdout",
     "output_type": "stream",
     "text": [
      "scale = 7, slope = 3, mean disc_loss = 4.023614319274202, mean_gen_loss = 3.3191030432935804, sum = 7.342717362567782, p=0.9919788241386414\n",
      "old gen_loss = 11.3569299003575, old disc_loss = 6.5515248734736815\n"
     ]
    },
    {
     "data": {
      "application/vnd.jupyter.widget-view+json": {
       "model_id": "d31e833242044ee782b31e54aaf293b2",
       "version_major": 2,
       "version_minor": 0
      },
      "text/plain": [
       "HBox(children=(FloatProgress(value=0.0), HTML(value='')))"
      ]
     },
     "metadata": {},
     "output_type": "display_data"
    },
    {
     "name": "stdout",
     "output_type": "stream",
     "text": [
      "scale = 7, slope = 3, mean disc_loss = 16.875604864908382, mean_gen_loss = 14.672390920226462, sum = 31.547995785134844, p=0.9754566550254822\n",
      "old gen_loss = 3.3191030432935804, old disc_loss = 4.023614319274202\n"
     ]
    },
    {
     "data": {
      "application/vnd.jupyter.widget-view+json": {
       "model_id": "352a1a9a62b84339b791e613ff2c5b40",
       "version_major": 2,
       "version_minor": 0
      },
      "text/plain": [
       "HBox(children=(FloatProgress(value=0.0), HTML(value='')))"
      ]
     },
     "metadata": {},
     "output_type": "display_data"
    },
    {
     "name": "stdout",
     "output_type": "stream",
     "text": [
      "scale = 7, slope = 3, mean disc_loss = 2.8794750990346074, mean_gen_loss = 5.370375869562849, sum = 8.249850968597457, p=0.9930543899536133\n",
      "old gen_loss = 14.672390920226462, old disc_loss = 16.875604864908382\n"
     ]
    },
    {
     "data": {
      "application/vnd.jupyter.widget-view+json": {
       "model_id": "5ed5e023b65b40e999c8acb757980b1c",
       "version_major": 2,
       "version_minor": 0
      },
      "text/plain": [
       "HBox(children=(FloatProgress(value=0.0), HTML(value='')))"
      ]
     },
     "metadata": {},
     "output_type": "display_data"
    },
    {
     "name": "stdout",
     "output_type": "stream",
     "text": [
      "scale = 7, slope = 3, mean disc_loss = 3.3791527194553055, mean_gen_loss = 5.037200657301582, sum = 8.416353376756888, p=0.9950258135795593\n",
      "old gen_loss = 5.370375869562849, old disc_loss = 2.8794750990346074\n"
     ]
    },
    {
     "data": {
      "application/vnd.jupyter.widget-view+json": {
       "model_id": "82bf232d6cae47fdbcdeb814a8251e1b",
       "version_major": 2,
       "version_minor": 0
      },
      "text/plain": [
       "HBox(children=(FloatProgress(value=0.0), HTML(value='')))"
      ]
     },
     "metadata": {},
     "output_type": "display_data"
    },
    {
     "name": "stdout",
     "output_type": "stream",
     "text": [
      "scale = 7, slope = 3, mean disc_loss = 10.662758438789751, mean_gen_loss = 6.080647362861782, sum = 16.743405801651534, p=0.9222010970115662\n",
      "old gen_loss = 5.037200657301582, old disc_loss = 3.3791527194553055\n"
     ]
    },
    {
     "data": {
      "application/vnd.jupyter.widget-view+json": {
       "model_id": "845b8126255e42f7bf2a13b253e84184",
       "version_major": 2,
       "version_minor": 0
      },
      "text/plain": [
       "HBox(children=(FloatProgress(value=0.0), HTML(value='')))"
      ]
     },
     "metadata": {},
     "output_type": "display_data"
    },
    {
     "name": "stdout",
     "output_type": "stream",
     "text": [
      "scale = 8, slope = 4, mean disc_loss = 9.588255452807061, mean_gen_loss = 12.092692153528333, sum = 21.680947606335394, p=0.9885536432266235\n",
      "old gen_loss = 6.080647362861782, old disc_loss = 10.662758438789751\n"
     ]
    },
    {
     "data": {
      "application/vnd.jupyter.widget-view+json": {
       "model_id": "dbf6a1bb8ebc4a7bb077de2984cc4cee",
       "version_major": 2,
       "version_minor": 0
      },
      "text/plain": [
       "HBox(children=(FloatProgress(value=0.0), HTML(value='')))"
      ]
     },
     "metadata": {},
     "output_type": "display_data"
    },
    {
     "name": "stdout",
     "output_type": "stream",
     "text": [
      "scale = 8, slope = 4, mean disc_loss = 2.0122082722373307, mean_gen_loss = 3.130030234809965, sum = 5.142238507047296, p=0.9456678628921509\n",
      "old gen_loss = 12.092692153528333, old disc_loss = 9.588255452807061\n"
     ]
    },
    {
     "data": {
      "application/vnd.jupyter.widget-view+json": {
       "model_id": "3c8c569eed0f410abee98e6b6eca28bb",
       "version_major": 2,
       "version_minor": 0
      },
      "text/plain": [
       "HBox(children=(FloatProgress(value=0.0), HTML(value='')))"
      ]
     },
     "metadata": {},
     "output_type": "display_data"
    },
    {
     "name": "stdout",
     "output_type": "stream",
     "text": [
      "scale = 8, slope = 4, mean disc_loss = 1.8555035012541339, mean_gen_loss = 2.473454565508291, sum = 4.328958066762425, p=0.9903378486633301\n",
      "old gen_loss = 3.130030234809965, old disc_loss = 2.0122082722373307\n"
     ]
    },
    {
     "data": {
      "application/vnd.jupyter.widget-view+json": {
       "model_id": "3afe77db2496447ab7e0eb13c8014617",
       "version_major": 2,
       "version_minor": 0
      },
      "text/plain": [
       "HBox(children=(FloatProgress(value=0.0), HTML(value='')))"
      ]
     },
     "metadata": {},
     "output_type": "display_data"
    },
    {
     "name": "stdout",
     "output_type": "stream",
     "text": [
      "scale = 8, slope = 4, mean disc_loss = 1.123796492931433, mean_gen_loss = 1.4522908506914973, sum = 2.5760873436229303, p=0.9910385012626648\n",
      "old gen_loss = 2.473454565508291, old disc_loss = 1.8555035012541339\n"
     ]
    },
    {
     "data": {
      "application/vnd.jupyter.widget-view+json": {
       "model_id": "acba148f8aa0450481f6e7466585ee2c",
       "version_major": 2,
       "version_minor": 0
      },
      "text/plain": [
       "HBox(children=(FloatProgress(value=0.0), HTML(value='')))"
      ]
     },
     "metadata": {},
     "output_type": "display_data"
    },
    {
     "name": "stdout",
     "output_type": "stream",
     "text": [
      "scale = 8, slope = 4, mean disc_loss = 1.5180972915841267, mean_gen_loss = 2.1771287855226547, sum = 3.6952260771067813, p=0.9988365173339844\n",
      "old gen_loss = 1.4522908506914973, old disc_loss = 1.123796492931433\n"
     ]
    },
    {
     "data": {
      "application/vnd.jupyter.widget-view+json": {
       "model_id": "3f9a5619793a4d8e86f73376cfd12f98",
       "version_major": 2,
       "version_minor": 0
      },
      "text/plain": [
       "HBox(children=(FloatProgress(value=0.0), HTML(value='')))"
      ]
     },
     "metadata": {},
     "output_type": "display_data"
    },
    {
     "name": "stdout",
     "output_type": "stream",
     "text": [
      "scale = 8, slope = 4, mean disc_loss = 13.271140761265997, mean_gen_loss = 12.418965806951746, sum = 25.690106568217743, p=0.7575713992118835\n",
      "old gen_loss = 2.1771287855226547, old disc_loss = 1.5180972915841267\n"
     ]
    },
    {
     "data": {
      "application/vnd.jupyter.widget-view+json": {
       "model_id": "4b53dcc6838a40bb8fbd0e092b31947b",
       "version_major": 2,
       "version_minor": 0
      },
      "text/plain": [
       "HBox(children=(FloatProgress(value=0.0), HTML(value='')))"
      ]
     },
     "metadata": {},
     "output_type": "display_data"
    },
    {
     "name": "stdout",
     "output_type": "stream",
     "text": [
      "scale = 8, slope = 4, mean disc_loss = 3.852683016215451, mean_gen_loss = 3.9840372807811946, sum = 7.836720296996646, p=0.9929165840148926\n",
      "old gen_loss = 12.418965806951746, old disc_loss = 13.271140761265997\n"
     ]
    },
    {
     "data": {
      "application/vnd.jupyter.widget-view+json": {
       "model_id": "a521365f9c0e4c16b8ce48c5edd0027f",
       "version_major": 2,
       "version_minor": 0
      },
      "text/plain": [
       "HBox(children=(FloatProgress(value=0.0), HTML(value='')))"
      ]
     },
     "metadata": {},
     "output_type": "display_data"
    },
    {
     "name": "stdout",
     "output_type": "stream",
     "text": [
      "scale = 8, slope = 4, mean disc_loss = 5.762892702012323, mean_gen_loss = 5.66725378902629, sum = 11.430146491038613, p=0.9865490794181824\n",
      "old gen_loss = 3.9840372807811946, old disc_loss = 3.852683016215451\n"
     ]
    },
    {
     "data": {
      "application/vnd.jupyter.widget-view+json": {
       "model_id": "6d6e3c413e9b4a03989a54496aa57084",
       "version_major": 2,
       "version_minor": 0
      },
      "text/plain": [
       "HBox(children=(FloatProgress(value=0.0), HTML(value='')))"
      ]
     },
     "metadata": {},
     "output_type": "display_data"
    },
    {
     "name": "stdout",
     "output_type": "stream",
     "text": [
      "scale = 8, slope = 4, mean disc_loss = 1.9820020112092607, mean_gen_loss = 3.01606947183609, sum = 4.998071483045351, p=0.9936310648918152\n",
      "old gen_loss = 5.66725378902629, old disc_loss = 5.762892702012323\n"
     ]
    },
    {
     "data": {
      "application/vnd.jupyter.widget-view+json": {
       "model_id": "bd265a22518847afa99085f59e52d229",
       "version_major": 2,
       "version_minor": 0
      },
      "text/plain": [
       "HBox(children=(FloatProgress(value=0.0), HTML(value='')))"
      ]
     },
     "metadata": {},
     "output_type": "display_data"
    },
    {
     "name": "stdout",
     "output_type": "stream",
     "text": [
      "scale = 8, slope = 4, mean disc_loss = 0.7279259940842167, mean_gen_loss = 0.8997709713876247, sum = 1.6276969654718414, p=0.9953066110610962\n",
      "old gen_loss = 3.01606947183609, old disc_loss = 1.9820020112092607\n"
     ]
    },
    {
     "data": {
      "application/vnd.jupyter.widget-view+json": {
       "model_id": "6516dbaa909d4c55bd734843ba2ff183",
       "version_major": 2,
       "version_minor": 0
      },
      "text/plain": [
       "HBox(children=(FloatProgress(value=0.0), HTML(value='')))"
      ]
     },
     "metadata": {},
     "output_type": "display_data"
    },
    {
     "name": "stdout",
     "output_type": "stream",
     "text": [
      "scale = 8, slope = 4, mean disc_loss = 1.6042491387343034, mean_gen_loss = 2.5336599708534777, sum = 4.137909109587781, p=0.7150937914848328\n",
      "old gen_loss = 0.8997709713876247, old disc_loss = 0.7279259940842167\n"
     ]
    },
    {
     "data": {
      "application/vnd.jupyter.widget-view+json": {
       "model_id": "3e47eae2fe2a4794bfd0f12d2b4363cf",
       "version_major": 2,
       "version_minor": 0
      },
      "text/plain": [
       "HBox(children=(FloatProgress(value=0.0), HTML(value='')))"
      ]
     },
     "metadata": {},
     "output_type": "display_data"
    },
    {
     "name": "stdout",
     "output_type": "stream",
     "text": [
      "scale = 8, slope = 4, mean disc_loss = 11.957478931872174, mean_gen_loss = 9.985303021443542, sum = 21.942781953315716, p=0.984394371509552\n",
      "old gen_loss = 2.5336599708534777, old disc_loss = 1.6042491387343034\n"
     ]
    },
    {
     "data": {
      "application/vnd.jupyter.widget-view+json": {
       "model_id": "83542b0265cc477192c56f4835e14317",
       "version_major": 2,
       "version_minor": 0
      },
      "text/plain": [
       "HBox(children=(FloatProgress(value=0.0), HTML(value='')))"
      ]
     },
     "metadata": {},
     "output_type": "display_data"
    },
    {
     "name": "stdout",
     "output_type": "stream",
     "text": [
      "scale = 8, slope = 4, mean disc_loss = 2.5129226641147397, mean_gen_loss = 3.8638887759880163, sum = 6.376811440102756, p=0.9947109222412109\n",
      "old gen_loss = 9.985303021443542, old disc_loss = 11.957478931872174\n"
     ]
    },
    {
     "data": {
      "application/vnd.jupyter.widget-view+json": {
       "model_id": "aa79413735c24396b3786a80cf9a4fde",
       "version_major": 2,
       "version_minor": 0
      },
      "text/plain": [
       "HBox(children=(FloatProgress(value=0.0), HTML(value='')))"
      ]
     },
     "metadata": {},
     "output_type": "display_data"
    },
    {
     "name": "stdout",
     "output_type": "stream",
     "text": [
      "scale = 8, slope = 4, mean disc_loss = 3.4012307917582802, mean_gen_loss = 9.478694668388925, sum = 12.879925460147206, p=0.9905153512954712\n",
      "old gen_loss = 3.8638887759880163, old disc_loss = 2.5129226641147397\n"
     ]
    },
    {
     "data": {
      "application/vnd.jupyter.widget-view+json": {
       "model_id": "0a06c1250eb740c7a9b8c678bbead227",
       "version_major": 2,
       "version_minor": 0
      },
      "text/plain": [
       "HBox(children=(FloatProgress(value=0.0), HTML(value='')))"
      ]
     },
     "metadata": {},
     "output_type": "display_data"
    },
    {
     "name": "stdout",
     "output_type": "stream",
     "text": [
      "scale = 8, slope = 4, mean disc_loss = 1.7852684190147556, mean_gen_loss = 1.9367917976342142, sum = 3.72206021664897, p=0.993410587310791\n",
      "old gen_loss = 9.478694668388925, old disc_loss = 3.4012307917582802\n"
     ]
    },
    {
     "data": {
      "application/vnd.jupyter.widget-view+json": {
       "model_id": "f59e474b6aba453bb1219e9b995e396e",
       "version_major": 2,
       "version_minor": 0
      },
      "text/plain": [
       "HBox(children=(FloatProgress(value=0.0), HTML(value='')))"
      ]
     },
     "metadata": {},
     "output_type": "display_data"
    },
    {
     "name": "stdout",
     "output_type": "stream",
     "text": [
      "scale = 8, slope = 4, mean disc_loss = 4.341927713016048, mean_gen_loss = 9.749034571577795, sum = 14.090962284593843, p=0.9556544423103333\n",
      "old gen_loss = 1.9367917976342142, old disc_loss = 1.7852684190147556\n"
     ]
    },
    {
     "data": {
      "application/vnd.jupyter.widget-view+json": {
       "model_id": "1f6e03d52a344b09a207244b2f998071",
       "version_major": 2,
       "version_minor": 0
      },
      "text/plain": [
       "HBox(children=(FloatProgress(value=0.0), HTML(value='')))"
      ]
     },
     "metadata": {},
     "output_type": "display_data"
    },
    {
     "name": "stdout",
     "output_type": "stream",
     "text": [
      "scale = 8, slope = 4, mean disc_loss = 1.6437183148227632, mean_gen_loss = 2.1600525743560866, sum = 3.8037708891788498, p=0.9988521337509155\n",
      "old gen_loss = 9.749034571577795, old disc_loss = 4.341927713016048\n"
     ]
    },
    {
     "data": {
      "application/vnd.jupyter.widget-view+json": {
       "model_id": "b76c78b3c88e445a891cdc501adf7e37",
       "version_major": 2,
       "version_minor": 0
      },
      "text/plain": [
       "HBox(children=(FloatProgress(value=0.0), HTML(value='')))"
      ]
     },
     "metadata": {},
     "output_type": "display_data"
    },
    {
     "name": "stdout",
     "output_type": "stream",
     "text": [
      "scale = 8, slope = 4, mean disc_loss = 0.5577890053973533, mean_gen_loss = 0.8267960147932172, sum = 1.3845850201905705, p=0.9979963898658752\n",
      "old gen_loss = 2.1600525743560866, old disc_loss = 1.6437183148227632\n"
     ]
    },
    {
     "data": {
      "application/vnd.jupyter.widget-view+json": {
       "model_id": "6448083145c9483dac5333a114874c9b",
       "version_major": 2,
       "version_minor": 0
      },
      "text/plain": [
       "HBox(children=(FloatProgress(value=0.0), HTML(value='')))"
      ]
     },
     "metadata": {},
     "output_type": "display_data"
    },
    {
     "name": "stdout",
     "output_type": "stream",
     "text": [
      "scale = 8, slope = 4, mean disc_loss = 1.511832028743811, mean_gen_loss = 1.3514236578484997, sum = 2.8632556865923107, p=0.963351845741272\n",
      "old gen_loss = 0.8267960147932172, old disc_loss = 0.5577890053973533\n"
     ]
    },
    {
     "data": {
      "application/vnd.jupyter.widget-view+json": {
       "model_id": "bcd7433b6e904e8da8e5cca1b2ff0f2e",
       "version_major": 2,
       "version_minor": 0
      },
      "text/plain": [
       "HBox(children=(FloatProgress(value=0.0), HTML(value='')))"
      ]
     },
     "metadata": {},
     "output_type": "display_data"
    },
    {
     "name": "stdout",
     "output_type": "stream",
     "text": [
      "scale = 8, slope = 4, mean disc_loss = 4.719394728075713, mean_gen_loss = 7.9657347536413, sum = 12.685129481717013, p=0.8597418069839478\n",
      "old gen_loss = 1.3514236578484997, old disc_loss = 1.511832028743811\n"
     ]
    },
    {
     "data": {
      "application/vnd.jupyter.widget-view+json": {
       "model_id": "72742a33fd534829a4e4f74b5bfbb798",
       "version_major": 2,
       "version_minor": 0
      },
      "text/plain": [
       "HBox(children=(FloatProgress(value=0.0), HTML(value='')))"
      ]
     },
     "metadata": {},
     "output_type": "display_data"
    },
    {
     "name": "stdout",
     "output_type": "stream",
     "text": [
      "scale = 8, slope = 4, mean disc_loss = 4.041287383297458, mean_gen_loss = 5.98263622057857, sum = 10.023923603876028, p=0.9926641583442688\n",
      "old gen_loss = 7.9657347536413, old disc_loss = 4.719394728075713\n"
     ]
    },
    {
     "data": {
      "application/vnd.jupyter.widget-view+json": {
       "model_id": "1dfdf78a89de4a99b290d3a695bf9ea6",
       "version_major": 2,
       "version_minor": 0
      },
      "text/plain": [
       "HBox(children=(FloatProgress(value=0.0), HTML(value='')))"
      ]
     },
     "metadata": {},
     "output_type": "display_data"
    },
    {
     "name": "stdout",
     "output_type": "stream",
     "text": [
      "scale = 7, slope = 3, mean disc_loss = 8.330810171144549, mean_gen_loss = 6.555633980955463, sum = 14.886444152100012, p=0.9967255592346191\n",
      "old gen_loss = 5.98263622057857, old disc_loss = 4.041287383297458\n"
     ]
    },
    {
     "data": {
      "application/vnd.jupyter.widget-view+json": {
       "model_id": "2877bd2c1dcd4474ad7cb3a334bd7064",
       "version_major": 2,
       "version_minor": 0
      },
      "text/plain": [
       "HBox(children=(FloatProgress(value=0.0), HTML(value='')))"
      ]
     },
     "metadata": {},
     "output_type": "display_data"
    },
    {
     "name": "stdout",
     "output_type": "stream",
     "text": [
      "scale = 8, slope = 4, mean disc_loss = 4.3138951937435195, mean_gen_loss = 12.747303638898302, sum = 17.06119883264182, p=0.9794235825538635\n",
      "old gen_loss = 6.555633980955463, old disc_loss = 8.330810171144549\n"
     ]
    },
    {
     "data": {
      "application/vnd.jupyter.widget-view+json": {
       "model_id": "a0fd0d9b42244ad6b6108ba5ecb59cef",
       "version_major": 2,
       "version_minor": 0
      },
      "text/plain": [
       "HBox(children=(FloatProgress(value=0.0), HTML(value='')))"
      ]
     },
     "metadata": {},
     "output_type": "display_data"
    },
    {
     "name": "stdout",
     "output_type": "stream",
     "text": [
      "scale = 8, slope = 4, mean disc_loss = 1.7753552450449206, mean_gen_loss = 1.9203696752083488, sum = 3.6957249202532694, p=0.9737921953201294\n",
      "old gen_loss = 12.747303638898302, old disc_loss = 4.3138951937435195\n"
     ]
    },
    {
     "data": {
      "application/vnd.jupyter.widget-view+json": {
       "model_id": "2580b50e29cc48a284e91bf7c0e75798",
       "version_major": 2,
       "version_minor": 0
      },
      "text/plain": [
       "HBox(children=(FloatProgress(value=0.0), HTML(value='')))"
      ]
     },
     "metadata": {},
     "output_type": "display_data"
    },
    {
     "name": "stdout",
     "output_type": "stream",
     "text": [
      "scale = 9, slope = 5, mean disc_loss = 1.2830044170841575, mean_gen_loss = 5.929253184353001, sum = 7.212257601437159, p=0.9977051615715027\n",
      "old gen_loss = 1.9203696752083488, old disc_loss = 1.7753552450449206\n"
     ]
    },
    {
     "data": {
      "application/vnd.jupyter.widget-view+json": {
       "model_id": "a348530056de414699a4ddd13d6665af",
       "version_major": 2,
       "version_minor": 0
      },
      "text/plain": [
       "HBox(children=(FloatProgress(value=0.0), HTML(value='')))"
      ]
     },
     "metadata": {},
     "output_type": "display_data"
    },
    {
     "name": "stdout",
     "output_type": "stream",
     "text": [
      "scale = 9, slope = 5, mean disc_loss = 44.5625013752142, mean_gen_loss = 30.286938335280865, sum = 74.84943971049506, p=0.9614133834838867\n",
      "old gen_loss = 5.929253184353001, old disc_loss = 1.2830044170841575\n"
     ]
    },
    {
     "data": {
      "application/vnd.jupyter.widget-view+json": {
       "model_id": "c4f7521b0eb94bfcbf79857723aaa112",
       "version_major": 2,
       "version_minor": 0
      },
      "text/plain": [
       "HBox(children=(FloatProgress(value=0.0), HTML(value='')))"
      ]
     },
     "metadata": {},
     "output_type": "display_data"
    },
    {
     "name": "stdout",
     "output_type": "stream",
     "text": [
      "scale = 9, slope = 5, mean disc_loss = 16.718668440473266, mean_gen_loss = 14.463266534963623, sum = 31.18193497543689, p=0.9506317973136902\n",
      "old gen_loss = 30.286938335280865, old disc_loss = 44.5625013752142\n"
     ]
    },
    {
     "data": {
      "application/vnd.jupyter.widget-view+json": {
       "model_id": "f975c7877d474d008f278325893a2d3f",
       "version_major": 2,
       "version_minor": 0
      },
      "text/plain": [
       "HBox(children=(FloatProgress(value=0.0), HTML(value='')))"
      ]
     },
     "metadata": {},
     "output_type": "display_data"
    },
    {
     "name": "stdout",
     "output_type": "stream",
     "text": [
      "scale = 9, slope = 5, mean disc_loss = 5.302794212475419, mean_gen_loss = 7.800182917155325, sum = 13.102977129630744, p=0.9952279329299927\n",
      "old gen_loss = 14.463266534963623, old disc_loss = 16.718668440473266\n"
     ]
    },
    {
     "data": {
      "application/vnd.jupyter.widget-view+json": {
       "model_id": "40e9afe04a154fb98ac20ab35f9d28e5",
       "version_major": 2,
       "version_minor": 0
      },
      "text/plain": [
       "HBox(children=(FloatProgress(value=0.0), HTML(value='')))"
      ]
     },
     "metadata": {},
     "output_type": "display_data"
    },
    {
     "name": "stdout",
     "output_type": "stream",
     "text": [
      "scale = 9, slope = 5, mean disc_loss = 6.606569396972191, mean_gen_loss = 22.647427935153246, sum = 29.253997332125437, p=0.8526994585990906\n",
      "old gen_loss = 7.800182917155325, old disc_loss = 5.302794212475419\n"
     ]
    },
    {
     "data": {
      "application/vnd.jupyter.widget-view+json": {
       "model_id": "3e163ed358d94e45a364fd6a8f39082e",
       "version_major": 2,
       "version_minor": 0
      },
      "text/plain": [
       "HBox(children=(FloatProgress(value=0.0), HTML(value='')))"
      ]
     },
     "metadata": {},
     "output_type": "display_data"
    },
    {
     "name": "stdout",
     "output_type": "stream",
     "text": [
      "scale = 8, slope = 4, mean disc_loss = 11.941870950045995, mean_gen_loss = 7.8428605913650244, sum = 19.78473154141102, p=0.9455698132514954\n",
      "old gen_loss = 22.647427935153246, old disc_loss = 6.606569396972191\n"
     ]
    },
    {
     "data": {
      "application/vnd.jupyter.widget-view+json": {
       "model_id": "959309e9e26343459bd2b7eae63f0afe",
       "version_major": 2,
       "version_minor": 0
      },
      "text/plain": [
       "HBox(children=(FloatProgress(value=0.0), HTML(value='')))"
      ]
     },
     "metadata": {},
     "output_type": "display_data"
    },
    {
     "name": "stdout",
     "output_type": "stream",
     "text": [
      "scale = 8, slope = 4, mean disc_loss = 8.894238478620537, mean_gen_loss = 6.4786918552126735, sum = 15.37293033383321, p=0.7913497090339661\n",
      "old gen_loss = 7.8428605913650244, old disc_loss = 11.941870950045995\n"
     ]
    },
    {
     "data": {
      "application/vnd.jupyter.widget-view+json": {
       "model_id": "bf7ebf52b91d47cf96f2ca45496d0832",
       "version_major": 2,
       "version_minor": 0
      },
      "text/plain": [
       "HBox(children=(FloatProgress(value=0.0), HTML(value='')))"
      ]
     },
     "metadata": {},
     "output_type": "display_data"
    },
    {
     "name": "stdout",
     "output_type": "stream",
     "text": [
      "scale = 8, slope = 4, mean disc_loss = 3.3907894345466048, mean_gen_loss = 6.679742416832596, sum = 10.0705318513792, p=0.9959866404533386\n",
      "old gen_loss = 6.4786918552126735, old disc_loss = 8.894238478620537\n"
     ]
    },
    {
     "data": {
      "application/vnd.jupyter.widget-view+json": {
       "model_id": "ffe49f2a6ace4959ae40e241c6b906ab",
       "version_major": 2,
       "version_minor": 0
      },
      "text/plain": [
       "HBox(children=(FloatProgress(value=0.0), HTML(value='')))"
      ]
     },
     "metadata": {},
     "output_type": "display_data"
    },
    {
     "name": "stdout",
     "output_type": "stream",
     "text": [
      "scale = 8, slope = 4, mean disc_loss = 11.171542650670744, mean_gen_loss = 14.982450747105759, sum = 26.153993397776503, p=0.9926904439926147\n",
      "old gen_loss = 6.679742416832596, old disc_loss = 3.3907894345466048\n"
     ]
    },
    {
     "data": {
      "application/vnd.jupyter.widget-view+json": {
       "model_id": "9cc9b4b506b1491285c5eb2ec889a349",
       "version_major": 2,
       "version_minor": 0
      },
      "text/plain": [
       "HBox(children=(FloatProgress(value=0.0), HTML(value='')))"
      ]
     },
     "metadata": {},
     "output_type": "display_data"
    },
    {
     "name": "stdout",
     "output_type": "stream",
     "text": [
      "scale = 8, slope = 4, mean disc_loss = 5.512471712660044, mean_gen_loss = 4.3524537538178265, sum = 9.864925466477871, p=0.9975612759590149\n",
      "old gen_loss = 14.982450747105759, old disc_loss = 11.171542650670744\n"
     ]
    },
    {
     "data": {
      "application/vnd.jupyter.widget-view+json": {
       "model_id": "74dcf2199e4947f7b5b734eac14d3844",
       "version_major": 2,
       "version_minor": 0
      },
      "text/plain": [
       "HBox(children=(FloatProgress(value=0.0), HTML(value='')))"
      ]
     },
     "metadata": {},
     "output_type": "display_data"
    },
    {
     "name": "stdout",
     "output_type": "stream",
     "text": [
      "scale = 9, slope = 5, mean disc_loss = 3.7240382847376168, mean_gen_loss = 5.556225273932796, sum = 9.280263558670413, p=0.9981890916824341\n",
      "old gen_loss = 4.3524537538178265, old disc_loss = 5.512471712660044\n"
     ]
    },
    {
     "data": {
      "application/vnd.jupyter.widget-view+json": {
       "model_id": "7880c13d603b4074ac61058f4f28540b",
       "version_major": 2,
       "version_minor": 0
      },
      "text/plain": [
       "HBox(children=(FloatProgress(value=0.0), HTML(value='')))"
      ]
     },
     "metadata": {},
     "output_type": "display_data"
    },
    {
     "name": "stdout",
     "output_type": "stream",
     "text": [
      "scale = 9, slope = 5, mean disc_loss = 3.3286650630179793, mean_gen_loss = 2.459982607048005, sum = 5.788647670065984, p=0.9916284680366516\n",
      "old gen_loss = 5.556225273932796, old disc_loss = 3.7240382847376168\n"
     ]
    },
    {
     "data": {
      "application/vnd.jupyter.widget-view+json": {
       "model_id": "98caf067a38c47dbb9d647859a0a5e7f",
       "version_major": 2,
       "version_minor": 0
      },
      "text/plain": [
       "HBox(children=(FloatProgress(value=0.0), HTML(value='')))"
      ]
     },
     "metadata": {},
     "output_type": "display_data"
    },
    {
     "name": "stdout",
     "output_type": "stream",
     "text": [
      "scale = 9, slope = 5, mean disc_loss = 1.0156853326479904, mean_gen_loss = 1.7800550273386762, sum = 2.7957403599866666, p=0.9985380172729492\n",
      "old gen_loss = 2.459982607048005, old disc_loss = 3.3286650630179793\n"
     ]
    },
    {
     "data": {
      "application/vnd.jupyter.widget-view+json": {
       "model_id": "3a840d01741a497cb9f8d3afdb5cecc5",
       "version_major": 2,
       "version_minor": 0
      },
      "text/plain": [
       "HBox(children=(FloatProgress(value=0.0), HTML(value='')))"
      ]
     },
     "metadata": {},
     "output_type": "display_data"
    },
    {
     "name": "stdout",
     "output_type": "stream",
     "text": [
      "scale = 9, slope = 5, mean disc_loss = 2.2463825180602726, mean_gen_loss = 3.720124165934976, sum = 5.966506683995249, p=0.9288164377212524\n",
      "old gen_loss = 1.7800550273386762, old disc_loss = 1.0156853326479904\n"
     ]
    },
    {
     "data": {
      "application/vnd.jupyter.widget-view+json": {
       "model_id": "21e9f9504dd140c58a136cad52122e62",
       "version_major": 2,
       "version_minor": 0
      },
      "text/plain": [
       "HBox(children=(FloatProgress(value=0.0), HTML(value='')))"
      ]
     },
     "metadata": {},
     "output_type": "display_data"
    },
    {
     "name": "stdout",
     "output_type": "stream",
     "text": [
      "scale = 10, slope = 6, mean disc_loss = 1.6146861021989025, mean_gen_loss = 7.105993135308381, sum = 8.720679237507284, p=0.9185657501220703\n",
      "old gen_loss = 3.720124165934976, old disc_loss = 2.2463825180602726\n"
     ]
    },
    {
     "data": {
      "application/vnd.jupyter.widget-view+json": {
       "model_id": "5dc57f74502b4f1095e6a03d7a2dc5df",
       "version_major": 2,
       "version_minor": 0
      },
      "text/plain": [
       "HBox(children=(FloatProgress(value=0.0), HTML(value='')))"
      ]
     },
     "metadata": {},
     "output_type": "display_data"
    },
    {
     "name": "stdout",
     "output_type": "stream",
     "text": [
      "scale = 9, slope = 5, mean disc_loss = 1.9933770708739758, mean_gen_loss = 1.3401841191225685, sum = 3.3335611899965443, p=0.997592568397522\n",
      "old gen_loss = 7.105993135308381, old disc_loss = 1.6146861021989025\n"
     ]
    },
    {
     "data": {
      "application/vnd.jupyter.widget-view+json": {
       "model_id": "70825949836f424f901013b5f8be3def",
       "version_major": 2,
       "version_minor": 0
      },
      "text/plain": [
       "HBox(children=(FloatProgress(value=0.0), HTML(value='')))"
      ]
     },
     "metadata": {},
     "output_type": "display_data"
    },
    {
     "name": "stdout",
     "output_type": "stream",
     "text": [
      "scale = 9, slope = 5, mean disc_loss = 0.39509704752708785, mean_gen_loss = 0.5633485575672239, sum = 0.9584456050943118, p=0.9987094402313232\n",
      "old gen_loss = 1.3401841191225685, old disc_loss = 1.9933770708739758\n"
     ]
    },
    {
     "data": {
      "application/vnd.jupyter.widget-view+json": {
       "model_id": "69d0e3238e2a46a6bd852a63b225016c",
       "version_major": 2,
       "version_minor": 0
      },
      "text/plain": [
       "HBox(children=(FloatProgress(value=0.0), HTML(value='')))"
      ]
     },
     "metadata": {},
     "output_type": "display_data"
    },
    {
     "name": "stdout",
     "output_type": "stream",
     "text": [
      "scale = 9, slope = 5, mean disc_loss = 0.37868693537893705, mean_gen_loss = 0.48727054573828354, sum = 0.8659574811172206, p=0.9901604652404785\n",
      "old gen_loss = 0.5633485575672239, old disc_loss = 0.39509704752708785\n"
     ]
    },
    {
     "data": {
      "application/vnd.jupyter.widget-view+json": {
       "model_id": "a423030509454cab86c63a27fc6a8d9e",
       "version_major": 2,
       "version_minor": 0
      },
      "text/plain": [
       "HBox(children=(FloatProgress(value=0.0), HTML(value='')))"
      ]
     },
     "metadata": {},
     "output_type": "display_data"
    },
    {
     "name": "stdout",
     "output_type": "stream",
     "text": [
      "scale = 9, slope = 5, mean disc_loss = 0.30705174151808023, mean_gen_loss = 0.5028190585435368, sum = 0.809870800061617, p=0.9933284521102905\n",
      "old gen_loss = 0.48727054573828354, old disc_loss = 0.37868693537893705\n"
     ]
    },
    {
     "data": {
      "application/vnd.jupyter.widget-view+json": {
       "model_id": "d0dc105ec1df40b0b3a0bec4ee3bf617",
       "version_major": 2,
       "version_minor": 0
      },
      "text/plain": [
       "HBox(children=(FloatProgress(value=0.0), HTML(value='')))"
      ]
     },
     "metadata": {},
     "output_type": "display_data"
    },
    {
     "name": "stdout",
     "output_type": "stream",
     "text": [
      "scale = 9, slope = 5, mean disc_loss = 0.5862806082004681, mean_gen_loss = 1.538054566422943, sum = 2.124335174623411, p=0.9979905486106873\n",
      "old gen_loss = 0.5028190585435368, old disc_loss = 0.30705174151808023\n"
     ]
    },
    {
     "data": {
      "application/vnd.jupyter.widget-view+json": {
       "model_id": "57735d542a9b47a88ae44d61e8c78435",
       "version_major": 2,
       "version_minor": 0
      },
      "text/plain": [
       "HBox(children=(FloatProgress(value=0.0), HTML(value='')))"
      ]
     },
     "metadata": {},
     "output_type": "display_data"
    },
    {
     "name": "stdout",
     "output_type": "stream",
     "text": [
      "scale = 9, slope = 5, mean disc_loss = 5.357922734983731, mean_gen_loss = 7.122614131076261, sum = 12.480536866059992, p=0.999119222164154\n",
      "old gen_loss = 1.538054566422943, old disc_loss = 0.5862806082004681\n"
     ]
    },
    {
     "data": {
      "application/vnd.jupyter.widget-view+json": {
       "model_id": "213fac27a9c44ebfaab01638bb989ed4",
       "version_major": 2,
       "version_minor": 0
      },
      "text/plain": [
       "HBox(children=(FloatProgress(value=0.0), HTML(value='')))"
      ]
     },
     "metadata": {},
     "output_type": "display_data"
    },
    {
     "name": "stdout",
     "output_type": "stream",
     "text": [
      "scale = 9, slope = 5, mean disc_loss = 1.1185923600569367, mean_gen_loss = 0.6168322030571289, sum = 1.7354245631140657, p=0.9987605810165405\n",
      "old gen_loss = 7.122614131076261, old disc_loss = 5.357922734983731\n"
     ]
    },
    {
     "data": {
      "application/vnd.jupyter.widget-view+json": {
       "model_id": "04f047a975f2412abb277326dc3ccd34",
       "version_major": 2,
       "version_minor": 0
      },
      "text/plain": [
       "HBox(children=(FloatProgress(value=0.0), HTML(value='')))"
      ]
     },
     "metadata": {},
     "output_type": "display_data"
    },
    {
     "name": "stdout",
     "output_type": "stream",
     "text": [
      "scale = 10, slope = 6, mean disc_loss = 0.7758298320986796, mean_gen_loss = 1.0850735442363657, sum = 1.8609033763350453, p=0.9959620237350464\n",
      "old gen_loss = 0.6168322030571289, old disc_loss = 1.1185923600569367\n"
     ]
    },
    {
     "data": {
      "application/vnd.jupyter.widget-view+json": {
       "model_id": "3bf6a97f66114b49b4c8c3bfeb303d4f",
       "version_major": 2,
       "version_minor": 0
      },
      "text/plain": [
       "HBox(children=(FloatProgress(value=0.0), HTML(value='')))"
      ]
     },
     "metadata": {},
     "output_type": "display_data"
    },
    {
     "name": "stdout",
     "output_type": "stream",
     "text": [
      "scale = 10, slope = 6, mean disc_loss = 0.32502146750630345, mean_gen_loss = 0.702522731909994, sum = 1.0275441994162975, p=0.9986706376075745\n",
      "old gen_loss = 1.0850735442363657, old disc_loss = 0.7758298320986796\n"
     ]
    },
    {
     "data": {
      "application/vnd.jupyter.widget-view+json": {
       "model_id": "00d7b20d2ac44a6d9fabd1b14ab21373",
       "version_major": 2,
       "version_minor": 0
      },
      "text/plain": [
       "HBox(children=(FloatProgress(value=0.0), HTML(value='')))"
      ]
     },
     "metadata": {},
     "output_type": "display_data"
    }
   ],
   "source": [
    "lr = 0.0002\n",
    "\n",
    "disc = Discriminative()\n",
    "disc.apply(weights_init)\n",
    "disc_optimizer = optim.Adam(params=disc.parameters(), lr=lr, betas=(0.9,0.999))\n",
    "\n",
    "loss = nn.BCELoss()\n",
    "\n",
    "gen = Generative()\n",
    "gen.apply(weights_init)\n",
    "gen_optimizer = optim.Adam(params=gen.parameters(), lr=lr, betas=(0.9,0.999))\n",
    "\n",
    "n_epochs = 100\n",
    "batch_size=50\n",
    "scale= 5\n",
    "disc_optimizer.zero_grad()\n",
    "slope = 1\n",
    "old_mean_disc_loss, mean_disc_loss = 0,0\n",
    "old_mean_gen_loss, mean_gen_loss=0,0\n",
    "gen_avg=0\n",
    "for e in tqdm(range(n_epochs)):\n",
    "    if mean_disc_loss > 1.2*old_mean_disc_loss:\n",
    "        slope -=1\n",
    "        scale -=1\n",
    "       \n",
    "    if mean_gen_loss > 1.1*old_mean_gen_loss:\n",
    "        slope += 1\n",
    "        scale += 1\n",
    "        \n",
    "    print('scale = {}, slope = {}, mean disc_loss = {}, mean_gen_loss = {}, sum = {}, p={}'.format(scale, slope, mean_disc_loss,mean_gen_loss,mean_disc_loss+mean_gen_loss, gen_avg))\n",
    "    print('old disc_loss = {}, old gen_loss = {}'.format( old_mean_disc_loss, old_mean_gen_loss))\n",
    "  \n",
    "    old_mean_disc_loss = mean_disc_loss\n",
    "    old_mean_gen_loss = mean_gen_loss\n",
    "    mean_disc_loss = 0\n",
    "    mean_gen_loss = 0\n",
    "    for i in tqdm(range(5000//batch_size)):\n",
    "        \n",
    "        real_images = traindata[(i*batch_size):((i+1)*batch_size)]\n",
    "        \n",
    "        \n",
    "\n",
    "        # Define real_images, real_labels\n",
    "        real_labels = torch.full((real_images.size(0),1), 1).view(batch_size)\n",
    "        big_real_labels = torch.full((scale*real_images.size(0),1), 1).view(scale*batch_size)\n",
    "        # Generate noise and define fake_labels\n",
    "        noise_vectors = torch.randn(real_images.size(0), M, 1, 1)\n",
    "        big_noise_vectors = torch.randn(scale*real_images.size(0),M,1,1)\n",
    "        \n",
    "        fake_labels = torch.full((real_images.size(0),1), 0).view(batch_size)\n",
    "        big_fake_labels = torch.full((real_images.size(0)*scale,1),0).view(scale*batch_size)\n",
    "        \n",
    "\n",
    "        # Train discriminative network one step using batch of real images\n",
    "        #real_images = real_images + (torch.randn(real_images.size())/10)\n",
    "        output = disc(real_images).view(batch_size)\n",
    "\n",
    "        real_loss = loss(output, real_labels)\n",
    "        real_loss.backward()\n",
    "        disc_real_avg = output.mean().item()\n",
    "\n",
    "    \n",
    "        # Generate fake images from noise and pass them through disc. net.\n",
    "        fake_images = gen(noise_vectors)\n",
    "        #fake_images = fake_images + (torch.randn(fake_images.size())/10)\n",
    "        output = disc(fake_images.detach()).view(batch_size)\n",
    "        fake_loss = loss(output, fake_labels)\n",
    "        fake_loss.backward()\n",
    "\n",
    "        # Aggregative real and fake loss and update weights\n",
    "        step_loss = real_loss + fake_loss\n",
    "        disc_fake_avg = output.mean().item()\n",
    "        if i%slope ==0:\n",
    "            disc_optimizer.step()\n",
    "            disc_optimizer.zero_grad()\n",
    "\n",
    "        # Train generative network\n",
    "        gen_optimizer.zero_grad()\n",
    "        big_fake_images = gen(big_noise_vectors)\n",
    "        output = disc(big_fake_images).view(scale*batch_size)\n",
    "        gen_loss = loss(output, big_real_labels)\n",
    "        gen_loss.backward()\n",
    "        gen_avg = output.mean().item()\n",
    "        gen_optimizer.step()\n",
    "        mean_disc_loss +=step_loss.item()\n",
    "        mean_gen_loss += gen_loss.item()\n",
    "        \n",
    "\n",
    "        #if i % 10 == 0:\n",
    "        #    print(\"Epoch: \"+str(e+1)+\" | Disc. Loss: \"+str(step_loss.item())+\" | Gen. Loss: \"+str(gen_loss.item())+\n",
    "         #       \" | D(X): \"+str(disc_real_avg)+\" | D(G(Z)): \"+str(disc_fake_avg)+\" -> \"+str(gen_avg))\n"
   ]
  },
  {
   "cell_type": "code",
   "execution_count": 134,
   "metadata": {},
   "outputs": [],
   "source": [
    "noise = torch.randn(10, 100, 1, 1)\n",
    "imgs = gen(noise)"
   ]
  },
  {
   "cell_type": "code",
   "execution_count": 135,
   "metadata": {},
   "outputs": [
    {
     "name": "stderr",
     "output_type": "stream",
     "text": [
      "Clipping input data to the valid range for imshow with RGB data ([0..1] for floats or [0..255] for integers).\n"
     ]
    },
    {
     "data": {
      "text/plain": [
       "<matplotlib.image.AxesImage at 0x7f4bc02ed220>"
      ]
     },
     "execution_count": 135,
     "metadata": {},
     "output_type": "execute_result"
    },
    {
     "data": {
      "image/png": "[encoded data removed]",
      "text/plain": [
       "<Figure size 432x288 with 1 Axes>"
      ]
     },
     "metadata": {
      "needs_background": "light"
     },
     "output_type": "display_data"
    }
   ],
   "source": [
    "plt.imshow(imgs[0,:,:,:].detach().numpy().transpose(1,2,0))"
   ]
  },
  {
   "cell_type": "code",
   "execution_count": 156,
   "metadata": {},
   "outputs": [
    {
     "name": "stderr",
     "output_type": "stream",
     "text": [
      "Clipping input data to the valid range for imshow with RGB data ([0..1] for floats or [0..255] for integers).\n"
     ]
    },
    {
     "data": {
      "text/plain": [
       "<matplotlib.image.AxesImage at 0x7f793db52610>"
      ]
     },
     "execution_count": 156,
     "metadata": {},
     "output_type": "execute_result"
    },
    {
     "data": {
      "image/png": "[encoded data removed]",
      "text/plain": [
       "<Figure size 144x144 with 1 Axes>"
      ]
     },
     "metadata": {
      "needs_background": "light"
     },
     "output_type": "display_data"
    }
   ],
   "source": [
    "fig,axes = plt.subplots(1,figsize=(2,2))\n",
    "axes.imshow(imgs[7,:,:,:].detach().numpy().transpose(1,2,0))"
   ]
  },
  {
   "cell_type": "code",
   "execution_count": null,
   "metadata": {},
   "outputs": [],
   "source": []
  }
 ],
 "metadata": {
  "kernelspec": {
   "display_name": "torch",
   "language": "python",
   "name": "torch"
  },
  "language_info": {
   "codemirror_mode": {
    "name": "ipython",
    "version": 3
   },
   "file_extension": ".py",
   "mimetype": "text/x-python",
   "name": "python",
   "nbconvert_exporter": "python",
   "pygments_lexer": "ipython3",
   "version": "3.8.2"
  }
 },
 "nbformat": 4,
 "nbformat_minor": 4
}
