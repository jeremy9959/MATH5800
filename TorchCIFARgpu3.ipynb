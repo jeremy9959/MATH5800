{
 "cells": [
  {
   "cell_type": "code",
   "execution_count": 1,
   "metadata": {},
   "outputs": [],
   "source": [
    "import torch\n",
    "import torchvision\n",
    "from torch import nn, optim\n",
    "from tqdm.notebook import tqdm"
   ]
  },
  {
   "cell_type": "code",
   "execution_count": 10,
   "metadata": {},
   "outputs": [
    {
     "name": "stdout",
     "output_type": "stream",
     "text": [
      "Files already downloaded and verified\n",
      "Downloading https://www.cs.toronto.edu/~kriz/cifar-10-python.tar.gz to cifar10_test_data/cifar-10-python.tar.gz\n"
     ]
    },
    {
     "name": "stderr",
     "output_type": "stream",
     "text": [
      "100.0%"
     ]
    },
    {
     "name": "stdout",
     "output_type": "stream",
     "text": [
      "Extracting cifar10_test_data/cifar-10-python.tar.gz to cifar10_test_data\n"
     ]
    }
   ],
   "source": [
    "tr = torchvision.transforms.Compose([torchvision.transforms.ToTensor()])\n",
    "\n",
    "cifar10_data = torchvision.datasets.CIFAR10(\"cifar10_train_data\", download=True, transform=tr)\n",
    "test_data = torchvision.datasets.CIFAR10(\"cifar10_test_data\", download=True, train=False, transform=tr)\n",
    "\n",
    "dataloader = torch.utils.data.DataLoader(cifar10_data, batch_size=64, shuffle=True)\n",
    "testloader = torch.utils.data.DataLoader(test_data, batch_size=64, shuffle=True)"
   ]
  },
  {
   "cell_type": "code",
   "execution_count": 5,
   "metadata": {},
   "outputs": [],
   "source": [
    "class CNN1(nn.Module):\n",
    "    def __init__(self):\n",
    "        super(CNN1, self).__init__()\n",
    "        self.conv11 = nn.Conv2d(3, 32, 3, padding=1)\n",
    "        self.conv12 = nn.Conv2d(32, 32, 3, padding=1)\n",
    "        self.conv21 = nn.Conv2d(32, 64, 3, padding=1)\n",
    "        self.conv22 = nn.Conv2d(64, 64, 3, padding=1)\n",
    "        self.pool = nn.MaxPool2d(2)\n",
    "        \n",
    "        self.linear1 = nn.Linear(4096, 256)\n",
    "        self.linear2 = nn.Linear(256, 10)\n",
    "        \n",
    "        self.relu = nn.ReLU()\n",
    "        self.softmax = nn.LogSoftmax(dim=1)\n",
    "        \n",
    "    def forward(self,X):\n",
    "        n = X.size(0)\n",
    "        \n",
    "        X = self.relu(self.conv11(X))\n",
    "        X = self.relu(self.conv12(X))\n",
    "        X = self.pool(X)\n",
    "        \n",
    "        X = self.relu(self.conv21(X))\n",
    "        X = self.relu(self.conv22(X))\n",
    "        X = self.pool(X)\n",
    "        \n",
    "        X = X.view(n,-1)\n",
    "        \n",
    "        X = self.relu(self.linear1(X))\n",
    "        X = self.softmax(self.linear2(X))\n",
    "        return X\n",
    "        "
   ]
  },
  {
   "cell_type": "code",
   "execution_count": 6,
   "metadata": {},
   "outputs": [
    {
     "name": "stdout",
     "output_type": "stream",
     "text": [
      "Epoch 1 - Training loss: 1.9018806726731303\n",
      "Epoch 2 - Training loss: 1.3884457120352693\n",
      "Epoch 3 - Training loss: 1.1404465804319552\n",
      "Epoch 4 - Training loss: 0.9417945816160163\n",
      "Epoch 5 - Training loss: 0.7740221536144272\n",
      "Epoch 6 - Training loss: 0.6196006882526076\n",
      "Epoch 7 - Training loss: 0.46443821232565835\n",
      "Epoch 8 - Training loss: 0.34503857944818106\n",
      "Epoch 9 - Training loss: 0.24994505120588995\n",
      "Epoch 10 - Training loss: 0.18782695459054255\n",
      "Epoch 11 - Training loss: 0.15193000015304864\n",
      "Epoch 12 - Training loss: 0.12834104848430133\n",
      "Epoch 13 - Training loss: 0.11270952978304795\n",
      "Epoch 14 - Training loss: 0.09760398511796275\n",
      "Epoch 15 - Training loss: 0.09540533868606677\n"
     ]
    }
   ],
   "source": [
    "model = CNN1()\n",
    "device=torch.device(\"cuda:0\")\n",
    "model.cuda()\n",
    "\n",
    "loss_fn = nn.CrossEntropyLoss()\n",
    "params = model.parameters()\n",
    "optimizer = optim.SGD(params = params,lr=.01, momentum=0.9)\n",
    "\n",
    "n_epochs = 15\n",
    "\n",
    "for e in tqdm(range(n_epochs)):\n",
    "    running_loss = 0\n",
    "    for i,(images,labels) in tqdm(enumerate(dataloader)):\n",
    "        #forward pass\n",
    "        images, labels = images.to(device), labels.to(device)\n",
    "        optimizer.zero_grad()\n",
    "        output = model(images)\n",
    "        loss = loss_fn(output, labels)\n",
    "        \n",
    "        #backward pass\n",
    "        loss.backward()\n",
    "        \n",
    "        optimizer.step()\n",
    "        \n",
    "        running_loss += loss.item()\n",
    "    else:\n",
    "        print(\"Epoch {} - Training loss: {}\".format(e+1, running_loss/len(dataloader)))"
   ]
  },
  {
   "cell_type": "code",
   "execution_count": 13,
   "metadata": {},
   "outputs": [
    {
     "name": "stdout",
     "output_type": "stream",
     "text": [
      "Number Of Images Tested = 10000\n",
      "\n",
      "Model Accuracy = 0.6897\n"
     ]
    }
   ],
   "source": [
    "correct_count, all_count = 0, 0\n",
    "\n",
    "incorrect = [[]]\n",
    "\n",
    "for images,labels in testloader:\n",
    "    images, labels = images.to(device), labels.to(device)\n",
    "    for i in range(len(labels)):\n",
    "        img = images[i].view(1, 3, 32, 32)\n",
    "        with torch.no_grad():\n",
    "            logps = model(img)\n",
    "        ps = torch.exp(logps)\n",
    "        probab = list(ps.cpu().numpy()[0])\n",
    "        pred_label = probab.index(max(probab))\n",
    "        true_label = labels.cpu().numpy()[i]\n",
    "        if(true_label == pred_label):\n",
    "            correct_count += 1\n",
    "        else:\n",
    "            incorrect.append([images[i],pred_label,true_label])\n",
    "        all_count += 1\n",
    "\n",
    "print(\"Number Of Images Tested =\", all_count)\n",
    "print(\"\\nModel Accuracy =\", (correct_count/all_count))"
   ]
  },
  {
   "cell_type": "code",
   "execution_count": 14,
   "metadata": {},
   "outputs": [],
   "source": [
    "torch.save(model.state_dict(), \"cifarmodel.pt\")"
   ]
  },
  {
   "cell_type": "code",
   "execution_count": 15,
   "metadata": {},
   "outputs": [
    {
     "data": {
      "text/plain": [
       "3104"
      ]
     },
     "execution_count": 15,
     "metadata": {},
     "output_type": "execute_result"
    }
   ],
   "source": [
    "len(incorrect)"
   ]
  },
  {
   "cell_type": "code",
   "execution_count": 18,
   "metadata": {},
   "outputs": [
    {
     "name": "stdout",
     "output_type": "stream",
     "text": [
      "[1, 4]\n",
      "[0, 2]\n",
      "[3, 5]\n",
      "[5, 4]\n",
      "[4, 3]\n"
     ]
    },
    {
     "data": {
      "image/png": "[encoded data removed]",
      "text/plain": [
       "<Figure size 2304x2304 with 5 Axes>"
      ]
     },
     "metadata": {
      "needs_background": "light"
     },
     "output_type": "display_data"
    }
   ],
   "source": [
    "incorrect = [x for x in incorrect if x != []]\n",
    "\n",
    "import matplotlib.pyplot as plt\n",
    "fig, axes = plt.subplots(1, 5, figsize=(32,32))\n",
    "\n",
    "for i,im in enumerate(axes.flat):\n",
    "    im.imshow(incorrect[i][0].permute(1,2,0))\n",
    "    \n",
    "for k in range(5):\n",
    "    print(incorrect[k][1:])"
   ]
  },
  {
   "cell_type": "code",
   "execution_count": 4,
   "metadata": {},
   "outputs": [
    {
     "data": {
      "text/plain": [
       "CNN1(\n",
       "  (conv1): Conv2d(1, 32, kernel_size=(5, 5), stride=(1, 1), padding=(2, 2))\n",
       "  (conv2): Conv2d(32, 32, kernel_size=(5, 5), stride=(1, 1), padding=(2, 2))\n",
       "  (conv3): Conv2d(32, 64, kernel_size=(3, 3), stride=(1, 1), padding=(1, 1))\n",
       "  (conv4): Conv2d(64, 64, kernel_size=(3, 3), stride=(1, 1), padding=(1, 1))\n",
       "  (pool): MaxPool2d(kernel_size=2, stride=2, padding=0, dilation=1, ceil_mode=False)\n",
       "  (linear1): Linear(in_features=3136, out_features=256, bias=True)\n",
       "  (linear2): Linear(in_features=256, out_features=10, bias=True)\n",
       "  (relu): ReLU()\n",
       "  (softmax): LogSoftmax()\n",
       ")"
      ]
     },
     "execution_count": 4,
     "metadata": {},
     "output_type": "execute_result"
    }
   ],
   "source": [
    "model = CNN1()\n",
    "model.load_state_dict(torch.load(\"mymodel.pt\"))\n",
    "model.eval()"
   ]
  },
  {
   "cell_type": "code",
   "execution_count": 53,
   "metadata": {},
   "outputs": [
    {
     "name": "stdout",
     "output_type": "stream",
     "text": [
      "19\n",
      "[4, 6]\n"
     ]
    },
    {
     "data": {
      "image/png": "[encoded data removed]",
      "text/plain": [
       "<Figure size 432x288 with 1 Axes>"
      ]
     },
     "metadata": {
      "needs_background": "light"
     },
     "output_type": "display_data"
    }
   ],
   "source": [
    "import random\n",
    "index = random.randrange(0,len(incorrect))\n",
    "print(index)\n",
    "plt.imshow(incorrect[index][0].permute(1,2,0))\n",
    "print(incorrect[index][1:])"
   ]
  },
  {
   "cell_type": "code",
   "execution_count": null,
   "metadata": {},
   "outputs": [],
   "source": []
  }
 ],
 "metadata": {
  "kernelspec": {
   "display_name": "Python 3",
   "language": "python",
   "name": "python3"
  },
  "language_info": {
   "codemirror_mode": {
    "name": "ipython",
    "version": 3
   },
   "file_extension": ".py",
   "mimetype": "text/x-python",
   "name": "python",
   "nbconvert_exporter": "python",
   "pygments_lexer": "ipython3",
   "version": "3.8.1"
  }
 },
 "nbformat": 4,
 "nbformat_minor": 4
}
