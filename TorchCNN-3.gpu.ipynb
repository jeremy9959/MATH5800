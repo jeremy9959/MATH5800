{
 "cells": [
  {
   "cell_type": "markdown",
   "metadata": {},
   "source": [
    "## Imports"
   ]
  },
  {
   "cell_type": "code",
   "execution_count": null,
   "metadata": {},
   "outputs": [],
   "source": [
    "import torch\n",
    "import torchvision\n",
    "from torch import nn, optim\n",
    "from visdom import Visdom\n",
    "from tqdm.notebook import tqdm"
   ]
  },
  {
   "cell_type": "markdown",
   "metadata": {},
   "source": [
    "## Setup dataloaders"
   ]
  },
  {
   "cell_type": "code",
   "execution_count": null,
   "metadata": {},
   "outputs": [],
   "source": [
    "tr = torchvision.transforms.Compose([torchvision.transforms.ToTensor()])\n",
    "\n",
    "mnist_data = torchvision.datasets.MNIST(\"mnist_data\", download=True, transform=tr)\n",
    "test_data = torchvision.datasets.MNIST(\"test_data\", download=True, train=False, transform=tr)\n",
    "\n",
    "dataloader = torch.utils.data.DataLoader(mnist_data, batch_size=64, shuffle=True)\n",
    "testloader = torch.utils.data.DataLoader(test_data, batch_size=64, shuffle=True)"
   ]
  },
  {
   "cell_type": "markdown",
   "metadata": {},
   "source": [
    "## Define CNN class"
   ]
  },
  {
   "cell_type": "code",
   "execution_count": null,
   "metadata": {},
   "outputs": [],
   "source": [
    "class CNN1(nn.Module):\n",
    "    def __init__(self):\n",
    "        super(CNN1, self).__init__()\n",
    "        self.conv1 = nn.Conv2d(1, 32, 5, padding=2)\n",
    "        self.conv2 = nn.Conv2d(32, 32, 5, padding=2)\n",
    "        self.conv3 = nn.Conv2d(32, 64, 3, padding=1)\n",
    "        self.conv4 = nn.Conv2d(64, 64, 3, padding=1)\n",
    "        self.pool = nn.MaxPool2d(2)\n",
    "        \n",
    "        self.linear1 = nn.Linear(3136, 256)\n",
    "        self.linear2 = nn.Linear(256, 10)\n",
    "        \n",
    "        self.relu = nn.ReLU()\n",
    "        self.softmax = nn.LogSoftmax(dim=1)\n",
    "        \n",
    "    def forward(self,X):\n",
    "        n = X.size(0)\n",
    "        \n",
    "        X = self.relu(self.conv1(X))\n",
    "        X = self.relu(self.conv2(X))\n",
    "        X = self.pool(X)\n",
    "        \n",
    "        X = self.relu(self.conv3(X))\n",
    "        X = self.relu(self.conv4(X))\n",
    "        X = self.pool(X)\n",
    "        \n",
    "        X = X.view(n,-1)\n",
    "        \n",
    "        X = self.relu(self.linear1(X))\n",
    "        X = self.softmax(self.linear2(X))\n",
    "        return X\n",
    "        "
   ]
  },
  {
   "cell_type": "markdown",
   "metadata": {},
   "source": [
    "## Train model (took me >1hr on a laptop)\n",
    "### If you don't want to train it, you can load it below "
   ]
  },
  {
   "cell_type": "code",
   "execution_count": null,
   "metadata": {},
   "outputs": [],
   "source": [
    "model = CNN1()\n",
    "device=torch.device(\"cuda:0\")\n",
    "model.cuda()\n",
    "loss_fn = nn.CrossEntropyLoss()\n",
    "params = model.parameters()\n",
    "optimizer = optim.SGD(params = params,lr=.01, momentum=0.9)\n",
    "\n",
    "n_epochs = 15\n",
    "\n",
    "for e in tqdm(range(n_epochs)):\n",
    "    running_loss = 0\n",
    "    for i,(images,labels) in tqdm(enumerate(dataloader)):\n",
    "        #forward pass\n",
    "        images, labels = images.to(device), labels.to(device)\n",
    "        optimizer.zero_grad()\n",
    "        output = model(images)\n",
    "        loss = loss_fn(output, labels)\n",
    "        \n",
    "        #backward pass\n",
    "        loss.backward()\n",
    "        \n",
    "        optimizer.step()\n",
    "        \n",
    "        running_loss += loss.item()\n",
    "    else:\n",
    "        print(\"Epoch {} - Training loss: {}\".format(e+1, running_loss/len(dataloader)))"
   ]
  },
  {
   "cell_type": "markdown",
   "metadata": {},
   "source": [
    "## Load model"
   ]
  },
  {
   "cell_type": "code",
   "execution_count": null,
   "metadata": {},
   "outputs": [],
   "source": [
    "model = CNN1()\n",
    "model.load_state_dict(torch.load(\"mymodel.pt\"))\n",
    "model.eval()"
   ]
  },
  {
   "cell_type": "markdown",
   "metadata": {},
   "source": [
    "## Save model"
   ]
  },
  {
   "cell_type": "code",
   "execution_count": null,
   "metadata": {},
   "outputs": [],
   "source": [
    "torch.save(model.state_dict(), \"mymodel.pt\")"
   ]
  },
  {
   "cell_type": "markdown",
   "metadata": {},
   "source": [
    "## Test model on test set (10,000 images)"
   ]
  },
  {
   "cell_type": "code",
   "execution_count": null,
   "metadata": {},
   "outputs": [],
   "source": [
    "correct_count, all_count = 0, 0\n",
    "\n",
    "incorrect = [[]]\n",
    "\n",
    "for images,labels in testloader:\n",
    "    images, labels = images.to(device), labels.to(device)\n",
    "    for i in range(len(labels)):\n",
    "        img = images[i].view(1, 1, 28, 28)\n",
    "        with torch.no_grad():\n",
    "            logps = model(img)\n",
    "        ps = torch.exp(logps)\n",
    "        probab = list(ps.cpu().numpy()[0])\n",
    "        pred_label = probab.index(max(probab))\n",
    "        true_label = labels.cpu().numpy()[i]\n",
    "        if(true_label == pred_label):\n",
    "            correct_count += 1\n",
    "        else:\n",
    "            incorrect.append([images[i],pred_label,true_label])\n",
    "        all_count += 1\n",
    "\n",
    "print(\"Number Of Images Tested =\", all_count)\n",
    "print(\"\\nModel Accuracy =\", (correct_count/all_count))"
   ]
  },
  {
   "cell_type": "markdown",
   "metadata": {},
   "source": [
    "### Determine the amount of incorrect predictions"
   ]
  },
  {
   "cell_type": "code",
   "execution_count": null,
   "metadata": {},
   "outputs": [],
   "source": [
    "incorrect = [x for x in incorrect if x != []]\n",
    "len(incorrect)"
   ]
  },
  {
   "cell_type": "markdown",
   "metadata": {},
   "source": [
    "## Visualize images that were predicted incorrectly\n",
    "#### Can be modified to show more than 5 images\n",
    "#### Arrays contain predicted label followed by actual label"
   ]
  },
  {
   "cell_type": "code",
   "execution_count": null,
   "metadata": {},
   "outputs": [],
   "source": [
    "import matplotlib.pyplot as plt\n",
    "fig, axes = plt.subplots(1, 5, figsize=(28,28))\n",
    "\n",
    "for i,im in enumerate(axes.flat):\n",
    "    im.imshow(incorrect[i][0].cpu().view(28,28))\n",
    "    \n",
    "for k in range(5):\n",
    "    print(incorrect[k][1:])"
   ]
  },
  {
   "cell_type": "markdown",
   "metadata": {},
   "source": [
    "## Views a random image that was predicted incorrectly"
   ]
  },
  {
   "cell_type": "code",
   "execution_count": null,
   "metadata": {},
   "outputs": [],
   "source": [
    "import random \n",
    "index = random.randrange(0,len(incorrect))\n",
    "print(index)\n",
    "plt.imshow(incorrect[index][0].cpu().view(28,28))\n",
    "print(incorrect[index][1:])"
   ]
  },
  {
   "cell_type": "code",
   "execution_count": null,
   "metadata": {},
   "outputs": [],
   "source": []
  }
 ],
 "metadata": {
  "kernelspec": {
   "display_name": "pytorch",
   "language": "python",
   "name": "pytorch"
  },
  "language_info": {
   "codemirror_mode": {
    "name": "ipython",
    "version": 3
   },
   "file_extension": ".py",
   "mimetype": "text/x-python",
   "name": "python",
   "nbconvert_exporter": "python",
   "pygments_lexer": "ipython3",
   "version": "3.7.6"
  }
 },
 "nbformat": 4,
 "nbformat_minor": 4
}
