{
 "cells": [
  {
   "cell_type": "markdown",
   "metadata": {},
   "source": [
    "## Imports"
   ]
  },
  {
   "cell_type": "code",
   "execution_count": 1,
   "metadata": {},
   "outputs": [],
   "source": [
    "import torch\n",
    "import torchvision\n",
    "from torch import nn, optim\n",
    "from visdom import Visdom"
   ]
  },
  {
   "cell_type": "markdown",
   "metadata": {},
   "source": [
    "## Setup dataloaders"
   ]
  },
  {
   "cell_type": "code",
   "execution_count": 2,
   "metadata": {},
   "outputs": [],
   "source": [
    "tr = torchvision.transforms.Compose([torchvision.transforms.ToTensor()])\n",
    "\n",
    "mnist_data = torchvision.datasets.MNIST(\"mnist_data\", download=True, transform=tr)\n",
    "test_data = torchvision.datasets.MNIST(\"test_data\", download=True, train=False, transform=tr)\n",
    "\n",
    "dataloader = torch.utils.data.DataLoader(mnist_data, batch_size=64, shuffle=True)\n",
    "testloader = torch.utils.data.DataLoader(test_data, batch_size=64, shuffle=True)"
   ]
  },
  {
   "cell_type": "markdown",
   "metadata": {},
   "source": [
    "## Define CNN class"
   ]
  },
  {
   "cell_type": "code",
   "execution_count": 3,
   "metadata": {},
   "outputs": [],
   "source": [
    "class CNN1(nn.Module):\n",
    "    def __init__(self):\n",
    "        super(CNN1, self).__init__()\n",
    "        self.conv1 = nn.Conv2d(1, 32, 5, padding=2)\n",
    "        self.conv2 = nn.Conv2d(32, 32, 5, padding=2)\n",
    "        self.conv3 = nn.Conv2d(32, 64, 3, padding=1)\n",
    "        self.conv4 = nn.Conv2d(64, 64, 3, padding=1)\n",
    "        self.pool = nn.MaxPool2d(2)\n",
    "        \n",
    "        self.linear1 = nn.Linear(3136, 256)\n",
    "        self.linear2 = nn.Linear(256, 10)\n",
    "        \n",
    "        self.relu = nn.ReLU()\n",
    "        self.softmax = nn.LogSoftmax(dim=1)\n",
    "        \n",
    "    def forward(self,X):\n",
    "        n = X.size(0)\n",
    "        \n",
    "        X = self.relu(self.conv1(X))\n",
    "        X = self.relu(self.conv2(X))\n",
    "        X = self.pool(X)\n",
    "        \n",
    "        X = self.relu(self.conv3(X))\n",
    "        X = self.relu(self.conv4(X))\n",
    "        X = self.pool(X)\n",
    "        \n",
    "        X = X.view(n,-1)\n",
    "        \n",
    "        X = self.relu(self.linear1(X))\n",
    "        X = self.softmax(self.linear2(X))\n",
    "        return X\n",
    "        "
   ]
  },
  {
   "cell_type": "markdown",
   "metadata": {},
   "source": [
    "## Train model (took me >1hr on a laptop)\n",
    "### If you don't want to train it, you can load it below "
   ]
  },
  {
   "cell_type": "code",
   "execution_count": 11,
   "metadata": {},
   "outputs": [
    {
     "name": "stdout",
     "output_type": "stream",
     "text": [
      "Epoch 1 - Training loss: 0.3965231049428585\n",
      "Epoch 2 - Training loss: 0.05270574699653792\n",
      "Epoch 3 - Training loss: 0.034178208320529195\n",
      "Epoch 4 - Training loss: 0.025401636626530957\n",
      "Epoch 5 - Training loss: 0.01980987081395739\n",
      "Epoch 6 - Training loss: 0.015451530678698247\n",
      "Epoch 7 - Training loss: 0.012104991136937951\n",
      "Epoch 8 - Training loss: 0.009889421988466686\n",
      "Epoch 9 - Training loss: 0.007788351539951505\n",
      "Epoch 10 - Training loss: 0.0055658054560702355\n",
      "Epoch 11 - Training loss: 0.005169435495678754\n",
      "Epoch 12 - Training loss: 0.004676316028995262\n",
      "Epoch 13 - Training loss: 0.004040289068581003\n",
      "Epoch 14 - Training loss: 0.0037248348915935627\n",
      "Epoch 15 - Training loss: 0.003777487977027449\n"
     ]
    }
   ],
   "source": [
    "model = CNN1()\n",
    "loss_fn = nn.CrossEntropyLoss()\n",
    "params = model.parameters()\n",
    "optimizer = optim.SGD(params = params,lr=.01, momentum=0.9)\n",
    "\n",
    "n_epochs = 15\n",
    "\n",
    "for e in range(n_epochs):\n",
    "    running_loss = 0\n",
    "    for i,(images,labels) in enumerate(dataloader):\n",
    "        #forward pass\n",
    "        optimizer.zero_grad()\n",
    "        output = model(images)\n",
    "        loss = loss_fn(output, labels)\n",
    "        \n",
    "        #backward pass\n",
    "        loss.backward()\n",
    "        \n",
    "        optimizer.step()\n",
    "        \n",
    "        running_loss += loss.item()\n",
    "    else:\n",
    "        print(\"Epoch {} - Training loss: {}\".format(e+1, running_loss/len(dataloader)))"
   ]
  },
  {
   "cell_type": "markdown",
   "metadata": {},
   "source": [
    "## Load model"
   ]
  },
  {
   "cell_type": "code",
   "execution_count": 4,
   "metadata": {},
   "outputs": [
    {
     "data": {
      "text/plain": [
       "CNN1(\n",
       "  (conv1): Conv2d(1, 32, kernel_size=(5, 5), stride=(1, 1), padding=(2, 2))\n",
       "  (conv2): Conv2d(32, 32, kernel_size=(5, 5), stride=(1, 1), padding=(2, 2))\n",
       "  (conv3): Conv2d(32, 64, kernel_size=(3, 3), stride=(1, 1), padding=(1, 1))\n",
       "  (conv4): Conv2d(64, 64, kernel_size=(3, 3), stride=(1, 1), padding=(1, 1))\n",
       "  (pool): MaxPool2d(kernel_size=2, stride=2, padding=0, dilation=1, ceil_mode=False)\n",
       "  (linear1): Linear(in_features=3136, out_features=256, bias=True)\n",
       "  (linear2): Linear(in_features=256, out_features=10, bias=True)\n",
       "  (relu): ReLU()\n",
       "  (softmax): LogSoftmax()\n",
       ")"
      ]
     },
     "execution_count": 4,
     "metadata": {},
     "output_type": "execute_result"
    }
   ],
   "source": [
    "model = CNN1()\n",
    "model.load_state_dict(torch.load(\"mymodel.pt\"))\n",
    "model.eval()"
   ]
  },
  {
   "cell_type": "markdown",
   "metadata": {},
   "source": [
    "## Save model"
   ]
  },
  {
   "cell_type": "code",
   "execution_count": 13,
   "metadata": {},
   "outputs": [],
   "source": [
    "torch.save(model.state_dict(), \"mymodel.pt\")"
   ]
  },
  {
   "cell_type": "markdown",
   "metadata": {},
   "source": [
    "## Test model on test set (10,000 images)"
   ]
  },
  {
   "cell_type": "code",
   "execution_count": 5,
   "metadata": {},
   "outputs": [
    {
     "name": "stdout",
     "output_type": "stream",
     "text": [
      "Number Of Images Tested = 10000\n",
      "\n",
      "Model Accuracy = 0.9923\n"
     ]
    }
   ],
   "source": [
    "correct_count, all_count = 0, 0\n",
    "\n",
    "incorrect = [[]]\n",
    "\n",
    "for images,labels in testloader:\n",
    "    for i in range(len(labels)):\n",
    "        img = images[i].view(1, 1, 28, 28)\n",
    "        with torch.no_grad():\n",
    "            logps = model(img)\n",
    "\n",
    "    \n",
    "    ps = torch.exp(logps)\n",
    "    probab = list(ps.numpy()[0])\n",
    "    pred_label = probab.index(max(probab))\n",
    "    true_label = labels.numpy()[i]\n",
    "    if(true_label == pred_label):\n",
    "        correct_count += 1\n",
    "    else:\n",
    "        incorrect.append([images[i],pred_label,true_label])\n",
    "    all_count += 1\n",
    "\n",
    "print(\"Number Of Images Tested =\", all_count)\n",
    "print(\"\\nModel Accuracy =\", (correct_count/all_count))"
   ]
  },
  {
   "cell_type": "markdown",
   "metadata": {},
   "source": [
    "### Determine the amount of incorrect predictions"
   ]
  },
  {
   "cell_type": "code",
   "execution_count": 11,
   "metadata": {},
   "outputs": [
    {
     "data": {
      "text/plain": [
       "77"
      ]
     },
     "execution_count": 11,
     "metadata": {},
     "output_type": "execute_result"
    }
   ],
   "source": [
    "incorrect = [x for x in incorrect if x != []]\n",
    "len(incorrect)"
   ]
  },
  {
   "cell_type": "markdown",
   "metadata": {},
   "source": [
    "## Visualize images that were predicted incorrectly\n",
    "#### Can be modified to show more than 5 images\n",
    "#### Arrays contain predicted label followed by actual label"
   ]
  },
  {
   "cell_type": "code",
   "execution_count": 7,
   "metadata": {},
   "outputs": [
    {
     "name": "stdout",
     "output_type": "stream",
     "text": [
      "[3, 5]\n",
      "[4, 6]\n",
      "[7, 2]\n",
      "[4, 9]\n",
      "[8, 9]\n"
     ]
    },
    {
     "data": {
      "image/png": "[encoded data removed]",
      "text/plain": [
       "<Figure size 2016x2016 with 5 Axes>"
      ]
     },
     "metadata": {
      "needs_background": "light"
     },
     "output_type": "display_data"
    }
   ],
   "source": [
    "import matplotlib.pyplot as plt\n",
    "fig, axes = plt.subplots(1, 5, figsize=(28,28))\n",
    "\n",
    "for i,im in enumerate(axes.flat):\n",
    "    im.imshow(incorrect[i][0].view(28,28))\n",
    "    \n",
    "for k in range(5):\n",
    "    print(incorrect[k][1:])"
   ]
  },
  {
   "cell_type": "markdown",
   "metadata": {},
   "source": [
    "## Views a random image that was predicted incorrectly"
   ]
  },
  {
   "cell_type": "code",
   "execution_count": 9,
   "metadata": {},
   "outputs": [
    {
     "name": "stdout",
     "output_type": "stream",
     "text": [
      "32\n",
      "[2, 7]\n"
     ]
    },
    {
     "data": {
      "image/png": "[encoded data removed]",
      "text/plain": [
       "<Figure size 432x288 with 1 Axes>"
      ]
     },
     "metadata": {
      "needs_background": "light"
     },
     "output_type": "display_data"
    }
   ],
   "source": [
    "import random \n",
    "index = random.randrange(0,len(incorrect))\n",
    "print(index)\n",
    "plt.imshow(incorrect[index][0].view(28,28))\n",
    "print(incorrect[index][1:])"
   ]
  },
  {
   "cell_type": "code",
   "execution_count": null,
   "metadata": {},
   "outputs": [],
   "source": []
  }
 ],
 "metadata": {
  "kernelspec": {
   "display_name": "Python 3",
   "language": "python",
   "name": "python3"
  },
  "language_info": {
   "codemirror_mode": {
    "name": "ipython",
    "version": 3
   },
   "file_extension": ".py",
   "mimetype": "text/x-python",
   "name": "python",
   "nbconvert_exporter": "python",
   "pygments_lexer": "ipython3",
   "version": "3.8.1"
  }
 },
 "nbformat": 4,
 "nbformat_minor": 4
}
