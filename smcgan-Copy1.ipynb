{
 "cells": [
  {
   "cell_type": "code",
   "execution_count": 1,
   "metadata": {},
   "outputs": [],
   "source": [
    "import os\n",
    "import numpy as np\n",
    "import pandas as pd\n",
    "import PIL.Image as Image\n",
    "import matplotlib.pyplot as plt\n",
    "import torch\n",
    "from torch import nn,optim\n",
    "from torchvision import transforms, datasets"
   ]
  },
  {
   "cell_type": "code",
   "execution_count": 2,
   "metadata": {},
   "outputs": [],
   "source": [
    "traindatanp = np.loadtxt(\"dogs\").reshape(5000,32,32,3)\n",
    "traindatanp = traindatanp.astype('float32')\n",
    "traindata = torch.from_numpy(traindatanp)\n",
    "traindata = traindata / 255"
   ]
  },
  {
   "cell_type": "code",
   "execution_count": 3,
   "metadata": {},
   "outputs": [],
   "source": [
    "class Generative(nn.Module):\n",
    "    def __init__(self):\n",
    "        super(Generative, self).__init__()\n",
    "        \n",
    "        self.linear1 = nn.Linear(16384, 8192)\n",
    "        self.linear2 = nn.Linear(8192, 4096)\n",
    "        self.linear3 = nn.Linear(4096, 3072)\n",
    "        \n",
    "        self.relu = nn.ReLU()\n",
    "        self.tanh = nn.Tanh()\n",
    "        self.sigmoid = nn.Sigmoid()\n",
    "        \n",
    "    def forward(self,X):\n",
    "        \n",
    "        X = X.view(X.size(0),-1)\n",
    "        \n",
    "        X = self.relu(self.linear1(X))\n",
    "        X = self.relu(self.linear2(X))\n",
    "        X = self.sigmoid(self.linear3(X))\n",
    "        \n",
    "        return X"
   ]
  },
  {
   "cell_type": "code",
   "execution_count": 4,
   "metadata": {},
   "outputs": [],
   "source": [
    "class Discriminative(nn.Module):\n",
    "    def __init__(self):\n",
    "        super(Discriminative, self).__init__()\n",
    "        \n",
    "        self.linear1 = nn.Linear(3072, 1024)\n",
    "        self.linear2 = nn.Linear(1024, 256)\n",
    "        self.linear3 = nn.Linear(256, 1)\n",
    "        \n",
    "        self.relu = nn.ReLU()\n",
    "        self.sigmoid = nn.Sigmoid()\n",
    "    \n",
    "    def forward(self, X):\n",
    "        \n",
    "        X = X.view(X.size(0), -1)\n",
    "        \n",
    "        X = self.relu(self.linear1(X))\n",
    "        X = self.relu(self.linear2(X))\n",
    "        X = self.sigmoid(self.linear3(X))\n",
    "        \n",
    "        return X"
   ]
  },
  {
   "cell_type": "code",
   "execution_count": 5,
   "metadata": {},
   "outputs": [
    {
     "name": "stdout",
     "output_type": "stream",
     "text": [
      "Epoch: 1 | Disc. Loss: 1.396163821220398 | Gen. Loss: 0.7283696532249451 | D(X): 0.5206355452537537 | D(G(Z)): 0.516430139541626 -> 0.517304539680481\n",
      "Epoch: 1 | Disc. Loss: 1.3945224285125732 | Gen. Loss: 0.7316297292709351 | D(X): 0.5207528471946716 | D(G(Z)): 0.5174075961112976 -> 0.5188755393028259\n",
      "Epoch: 1 | Disc. Loss: 1.393312931060791 | Gen. Loss: 0.7359839081764221 | D(X): 0.521486759185791 | D(G(Z)): 0.5188178420066833 -> 0.5209659337997437\n",
      "Epoch: 1 | Disc. Loss: 1.3903647661209106 | Gen. Loss: 0.741080641746521 | D(X): 0.522063136100769 | D(G(Z)): 0.5209885239601135 -> 0.5234013199806213\n",
      "Epoch: 1 | Disc. Loss: 1.3871430158615112 | Gen. Loss: 0.746279239654541 | D(X): 0.5226706862449646 | D(G(Z)): 0.5233340263366699 -> 0.5258722901344299\n",
      "Epoch: 1 | Disc. Loss: 1.383317232131958 | Gen. Loss: 0.7521868348121643 | D(X): 0.523200273513794 | D(G(Z)): 0.5259231328964233 -> 0.5286650657653809\n",
      "Epoch: 1 | Disc. Loss: 1.3818652629852295 | Gen. Loss: 0.758110523223877 | D(X): 0.5249431729316711 | D(G(Z)): 0.5286226868629456 -> 0.5314488410949707\n",
      "Epoch: 1 | Disc. Loss: 1.3786954879760742 | Gen. Loss: 0.7633415460586548 | D(X): 0.5259036421775818 | D(G(Z)): 0.5313770174980164 -> 0.5338934063911438\n",
      "Epoch: 1 | Disc. Loss: 1.3763227462768555 | Gen. Loss: 0.7679935693740845 | D(X): 0.5269462466239929 | D(G(Z)): 0.533818244934082 -> 0.5360568165779114\n",
      "Epoch: 1 | Disc. Loss: 1.3745391368865967 | Gen. Loss: 0.7718819379806519 | D(X): 0.5280349254608154 | D(G(Z)): 0.5360340476036072 -> 0.5378572344779968\n",
      "Epoch: 1 | Disc. Loss: 1.3707605600357056 | Gen. Loss: 0.775092363357544 | D(X): 0.5277941226959229 | D(G(Z)): 0.5377749800682068 -> 0.5393386483192444\n",
      "Epoch: 1 | Disc. Loss: 1.3669261932373047 | Gen. Loss: 0.7784587740898132 | D(X): 0.5273857712745667 | D(G(Z)): 0.5393756628036499 -> 0.5408867597579956\n",
      "Epoch: 1 | Disc. Loss: 1.3666187524795532 | Gen. Loss: 0.7815536260604858 | D(X): 0.5284713506698608 | D(G(Z)): 0.5408109426498413 -> 0.5423054099082947\n",
      "Epoch: 1 | Disc. Loss: 1.3639090061187744 | Gen. Loss: 0.7843666672706604 | D(X): 0.5284026861190796 | D(G(Z)): 0.5422208309173584 -> 0.5435911417007446\n",
      "Epoch: 1 | Disc. Loss: 1.3575994968414307 | Gen. Loss: 0.7872612476348877 | D(X): 0.5266526937484741 | D(G(Z)): 0.5436097979545593 -> 0.5449103713035583\n",
      "Epoch: 1 | Disc. Loss: 1.3547749519348145 | Gen. Loss: 0.7898750305175781 | D(X): 0.526404082775116 | D(G(Z)): 0.5448572635650635 -> 0.5460983514785767\n",
      "Epoch: 1 | Disc. Loss: 1.3569984436035156 | Gen. Loss: 0.7918959259986877 | D(X): 0.5284249782562256 | D(G(Z)): 0.5460434556007385 -> 0.5470147728919983\n"
     ]
    },
    {
     "ename": "KeyboardInterrupt",
     "evalue": "",
     "output_type": "error",
     "traceback": [
      "\u001b[0;31m---------------------------------------------------------------------------\u001b[0m",
      "\u001b[0;31mKeyboardInterrupt\u001b[0m                         Traceback (most recent call last)",
      "\u001b[0;32m<ipython-input-5-e22ed0bafc27>\u001b[0m in \u001b[0;36m<module>\u001b[0;34m\u001b[0m\n\u001b[1;32m     33\u001b[0m \u001b[0;34m\u001b[0m\u001b[0m\n\u001b[1;32m     34\u001b[0m         \u001b[0;31m# Generate fake images from noise and pass them through disc. net.\u001b[0m\u001b[0;34m\u001b[0m\u001b[0;34m\u001b[0m\u001b[0;34m\u001b[0m\u001b[0m\n\u001b[0;32m---> 35\u001b[0;31m         \u001b[0mfake_images\u001b[0m \u001b[0;34m=\u001b[0m \u001b[0mgen\u001b[0m\u001b[0;34m(\u001b[0m\u001b[0mnoise_vectors\u001b[0m\u001b[0;34m)\u001b[0m\u001b[0;34m\u001b[0m\u001b[0;34m\u001b[0m\u001b[0m\n\u001b[0m\u001b[1;32m     36\u001b[0m         \u001b[0;31m#fake_images = fake_images + (torch.randn(fake_images.size())/10)\u001b[0m\u001b[0;34m\u001b[0m\u001b[0;34m\u001b[0m\u001b[0;34m\u001b[0m\u001b[0m\n\u001b[1;32m     37\u001b[0m         \u001b[0moutput\u001b[0m \u001b[0;34m=\u001b[0m \u001b[0mdisc\u001b[0m\u001b[0;34m(\u001b[0m\u001b[0mfake_images\u001b[0m\u001b[0;34m.\u001b[0m\u001b[0mdetach\u001b[0m\u001b[0;34m(\u001b[0m\u001b[0;34m)\u001b[0m\u001b[0;34m)\u001b[0m\u001b[0;34m\u001b[0m\u001b[0;34m\u001b[0m\u001b[0m\n",
      "\u001b[0;32m~/.local/lib/python3.8/site-packages/torch/nn/modules/module.py\u001b[0m in \u001b[0;36m__call__\u001b[0;34m(self, *input, **kwargs)\u001b[0m\n\u001b[1;32m    530\u001b[0m             \u001b[0mresult\u001b[0m \u001b[0;34m=\u001b[0m \u001b[0mself\u001b[0m\u001b[0;34m.\u001b[0m\u001b[0m_slow_forward\u001b[0m\u001b[0;34m(\u001b[0m\u001b[0;34m*\u001b[0m\u001b[0minput\u001b[0m\u001b[0;34m,\u001b[0m \u001b[0;34m**\u001b[0m\u001b[0mkwargs\u001b[0m\u001b[0;34m)\u001b[0m\u001b[0;34m\u001b[0m\u001b[0;34m\u001b[0m\u001b[0m\n\u001b[1;32m    531\u001b[0m         \u001b[0;32melse\u001b[0m\u001b[0;34m:\u001b[0m\u001b[0;34m\u001b[0m\u001b[0;34m\u001b[0m\u001b[0m\n\u001b[0;32m--> 532\u001b[0;31m             \u001b[0mresult\u001b[0m \u001b[0;34m=\u001b[0m \u001b[0mself\u001b[0m\u001b[0;34m.\u001b[0m\u001b[0mforward\u001b[0m\u001b[0;34m(\u001b[0m\u001b[0;34m*\u001b[0m\u001b[0minput\u001b[0m\u001b[0;34m,\u001b[0m \u001b[0;34m**\u001b[0m\u001b[0mkwargs\u001b[0m\u001b[0;34m)\u001b[0m\u001b[0;34m\u001b[0m\u001b[0;34m\u001b[0m\u001b[0m\n\u001b[0m\u001b[1;32m    533\u001b[0m         \u001b[0;32mfor\u001b[0m \u001b[0mhook\u001b[0m \u001b[0;32min\u001b[0m \u001b[0mself\u001b[0m\u001b[0;34m.\u001b[0m\u001b[0m_forward_hooks\u001b[0m\u001b[0;34m.\u001b[0m\u001b[0mvalues\u001b[0m\u001b[0;34m(\u001b[0m\u001b[0;34m)\u001b[0m\u001b[0;34m:\u001b[0m\u001b[0;34m\u001b[0m\u001b[0;34m\u001b[0m\u001b[0m\n\u001b[1;32m    534\u001b[0m             \u001b[0mhook_result\u001b[0m \u001b[0;34m=\u001b[0m \u001b[0mhook\u001b[0m\u001b[0;34m(\u001b[0m\u001b[0mself\u001b[0m\u001b[0;34m,\u001b[0m \u001b[0minput\u001b[0m\u001b[0;34m,\u001b[0m \u001b[0mresult\u001b[0m\u001b[0;34m)\u001b[0m\u001b[0;34m\u001b[0m\u001b[0;34m\u001b[0m\u001b[0m\n",
      "\u001b[0;32m<ipython-input-3-32baabf493be>\u001b[0m in \u001b[0;36mforward\u001b[0;34m(self, X)\u001b[0m\n\u001b[1;32m     15\u001b[0m         \u001b[0mX\u001b[0m \u001b[0;34m=\u001b[0m \u001b[0mX\u001b[0m\u001b[0;34m.\u001b[0m\u001b[0mview\u001b[0m\u001b[0;34m(\u001b[0m\u001b[0mX\u001b[0m\u001b[0;34m.\u001b[0m\u001b[0msize\u001b[0m\u001b[0;34m(\u001b[0m\u001b[0;36m0\u001b[0m\u001b[0;34m)\u001b[0m\u001b[0;34m,\u001b[0m\u001b[0;34m-\u001b[0m\u001b[0;36m1\u001b[0m\u001b[0;34m)\u001b[0m\u001b[0;34m\u001b[0m\u001b[0;34m\u001b[0m\u001b[0m\n\u001b[1;32m     16\u001b[0m \u001b[0;34m\u001b[0m\u001b[0m\n\u001b[0;32m---> 17\u001b[0;31m         \u001b[0mX\u001b[0m \u001b[0;34m=\u001b[0m \u001b[0mself\u001b[0m\u001b[0;34m.\u001b[0m\u001b[0mrelu\u001b[0m\u001b[0;34m(\u001b[0m\u001b[0mself\u001b[0m\u001b[0;34m.\u001b[0m\u001b[0mlinear1\u001b[0m\u001b[0;34m(\u001b[0m\u001b[0mX\u001b[0m\u001b[0;34m)\u001b[0m\u001b[0;34m)\u001b[0m\u001b[0;34m\u001b[0m\u001b[0;34m\u001b[0m\u001b[0m\n\u001b[0m\u001b[1;32m     18\u001b[0m         \u001b[0mX\u001b[0m \u001b[0;34m=\u001b[0m \u001b[0mself\u001b[0m\u001b[0;34m.\u001b[0m\u001b[0mrelu\u001b[0m\u001b[0;34m(\u001b[0m\u001b[0mself\u001b[0m\u001b[0;34m.\u001b[0m\u001b[0mlinear2\u001b[0m\u001b[0;34m(\u001b[0m\u001b[0mX\u001b[0m\u001b[0;34m)\u001b[0m\u001b[0;34m)\u001b[0m\u001b[0;34m\u001b[0m\u001b[0;34m\u001b[0m\u001b[0m\n\u001b[1;32m     19\u001b[0m         \u001b[0mX\u001b[0m \u001b[0;34m=\u001b[0m \u001b[0mself\u001b[0m\u001b[0;34m.\u001b[0m\u001b[0msigmoid\u001b[0m\u001b[0;34m(\u001b[0m\u001b[0mself\u001b[0m\u001b[0;34m.\u001b[0m\u001b[0mlinear3\u001b[0m\u001b[0;34m(\u001b[0m\u001b[0mX\u001b[0m\u001b[0;34m)\u001b[0m\u001b[0;34m)\u001b[0m\u001b[0;34m\u001b[0m\u001b[0;34m\u001b[0m\u001b[0m\n",
      "\u001b[0;32m~/.local/lib/python3.8/site-packages/torch/nn/modules/module.py\u001b[0m in \u001b[0;36m__call__\u001b[0;34m(self, *input, **kwargs)\u001b[0m\n\u001b[1;32m    530\u001b[0m             \u001b[0mresult\u001b[0m \u001b[0;34m=\u001b[0m \u001b[0mself\u001b[0m\u001b[0;34m.\u001b[0m\u001b[0m_slow_forward\u001b[0m\u001b[0;34m(\u001b[0m\u001b[0;34m*\u001b[0m\u001b[0minput\u001b[0m\u001b[0;34m,\u001b[0m \u001b[0;34m**\u001b[0m\u001b[0mkwargs\u001b[0m\u001b[0;34m)\u001b[0m\u001b[0;34m\u001b[0m\u001b[0;34m\u001b[0m\u001b[0m\n\u001b[1;32m    531\u001b[0m         \u001b[0;32melse\u001b[0m\u001b[0;34m:\u001b[0m\u001b[0;34m\u001b[0m\u001b[0;34m\u001b[0m\u001b[0m\n\u001b[0;32m--> 532\u001b[0;31m             \u001b[0mresult\u001b[0m \u001b[0;34m=\u001b[0m \u001b[0mself\u001b[0m\u001b[0;34m.\u001b[0m\u001b[0mforward\u001b[0m\u001b[0;34m(\u001b[0m\u001b[0;34m*\u001b[0m\u001b[0minput\u001b[0m\u001b[0;34m,\u001b[0m \u001b[0;34m**\u001b[0m\u001b[0mkwargs\u001b[0m\u001b[0;34m)\u001b[0m\u001b[0;34m\u001b[0m\u001b[0;34m\u001b[0m\u001b[0m\n\u001b[0m\u001b[1;32m    533\u001b[0m         \u001b[0;32mfor\u001b[0m \u001b[0mhook\u001b[0m \u001b[0;32min\u001b[0m \u001b[0mself\u001b[0m\u001b[0;34m.\u001b[0m\u001b[0m_forward_hooks\u001b[0m\u001b[0;34m.\u001b[0m\u001b[0mvalues\u001b[0m\u001b[0;34m(\u001b[0m\u001b[0;34m)\u001b[0m\u001b[0;34m:\u001b[0m\u001b[0;34m\u001b[0m\u001b[0;34m\u001b[0m\u001b[0m\n\u001b[1;32m    534\u001b[0m             \u001b[0mhook_result\u001b[0m \u001b[0;34m=\u001b[0m \u001b[0mhook\u001b[0m\u001b[0;34m(\u001b[0m\u001b[0mself\u001b[0m\u001b[0;34m,\u001b[0m \u001b[0minput\u001b[0m\u001b[0;34m,\u001b[0m \u001b[0mresult\u001b[0m\u001b[0;34m)\u001b[0m\u001b[0;34m\u001b[0m\u001b[0;34m\u001b[0m\u001b[0m\n",
      "\u001b[0;32m~/.local/lib/python3.8/site-packages/torch/nn/modules/linear.py\u001b[0m in \u001b[0;36mforward\u001b[0;34m(self, input)\u001b[0m\n\u001b[1;32m     85\u001b[0m \u001b[0;34m\u001b[0m\u001b[0m\n\u001b[1;32m     86\u001b[0m     \u001b[0;32mdef\u001b[0m \u001b[0mforward\u001b[0m\u001b[0;34m(\u001b[0m\u001b[0mself\u001b[0m\u001b[0;34m,\u001b[0m \u001b[0minput\u001b[0m\u001b[0;34m)\u001b[0m\u001b[0;34m:\u001b[0m\u001b[0;34m\u001b[0m\u001b[0;34m\u001b[0m\u001b[0m\n\u001b[0;32m---> 87\u001b[0;31m         \u001b[0;32mreturn\u001b[0m \u001b[0mF\u001b[0m\u001b[0;34m.\u001b[0m\u001b[0mlinear\u001b[0m\u001b[0;34m(\u001b[0m\u001b[0minput\u001b[0m\u001b[0;34m,\u001b[0m \u001b[0mself\u001b[0m\u001b[0;34m.\u001b[0m\u001b[0mweight\u001b[0m\u001b[0;34m,\u001b[0m \u001b[0mself\u001b[0m\u001b[0;34m.\u001b[0m\u001b[0mbias\u001b[0m\u001b[0;34m)\u001b[0m\u001b[0;34m\u001b[0m\u001b[0;34m\u001b[0m\u001b[0m\n\u001b[0m\u001b[1;32m     88\u001b[0m \u001b[0;34m\u001b[0m\u001b[0m\n\u001b[1;32m     89\u001b[0m     \u001b[0;32mdef\u001b[0m \u001b[0mextra_repr\u001b[0m\u001b[0;34m(\u001b[0m\u001b[0mself\u001b[0m\u001b[0;34m)\u001b[0m\u001b[0;34m:\u001b[0m\u001b[0;34m\u001b[0m\u001b[0;34m\u001b[0m\u001b[0m\n",
      "\u001b[0;32m~/.local/lib/python3.8/site-packages/torch/nn/functional.py\u001b[0m in \u001b[0;36mlinear\u001b[0;34m(input, weight, bias)\u001b[0m\n\u001b[1;32m   1368\u001b[0m     \u001b[0;32mif\u001b[0m \u001b[0minput\u001b[0m\u001b[0;34m.\u001b[0m\u001b[0mdim\u001b[0m\u001b[0;34m(\u001b[0m\u001b[0;34m)\u001b[0m \u001b[0;34m==\u001b[0m \u001b[0;36m2\u001b[0m \u001b[0;32mand\u001b[0m \u001b[0mbias\u001b[0m \u001b[0;32mis\u001b[0m \u001b[0;32mnot\u001b[0m \u001b[0;32mNone\u001b[0m\u001b[0;34m:\u001b[0m\u001b[0;34m\u001b[0m\u001b[0;34m\u001b[0m\u001b[0m\n\u001b[1;32m   1369\u001b[0m         \u001b[0;31m# fused op is marginally faster\u001b[0m\u001b[0;34m\u001b[0m\u001b[0;34m\u001b[0m\u001b[0;34m\u001b[0m\u001b[0m\n\u001b[0;32m-> 1370\u001b[0;31m         \u001b[0mret\u001b[0m \u001b[0;34m=\u001b[0m \u001b[0mtorch\u001b[0m\u001b[0;34m.\u001b[0m\u001b[0maddmm\u001b[0m\u001b[0;34m(\u001b[0m\u001b[0mbias\u001b[0m\u001b[0;34m,\u001b[0m \u001b[0minput\u001b[0m\u001b[0;34m,\u001b[0m \u001b[0mweight\u001b[0m\u001b[0;34m.\u001b[0m\u001b[0mt\u001b[0m\u001b[0;34m(\u001b[0m\u001b[0;34m)\u001b[0m\u001b[0;34m)\u001b[0m\u001b[0;34m\u001b[0m\u001b[0;34m\u001b[0m\u001b[0m\n\u001b[0m\u001b[1;32m   1371\u001b[0m     \u001b[0;32melse\u001b[0m\u001b[0;34m:\u001b[0m\u001b[0;34m\u001b[0m\u001b[0;34m\u001b[0m\u001b[0m\n\u001b[1;32m   1372\u001b[0m         \u001b[0moutput\u001b[0m \u001b[0;34m=\u001b[0m \u001b[0minput\u001b[0m\u001b[0;34m.\u001b[0m\u001b[0mmatmul\u001b[0m\u001b[0;34m(\u001b[0m\u001b[0mweight\u001b[0m\u001b[0;34m.\u001b[0m\u001b[0mt\u001b[0m\u001b[0;34m(\u001b[0m\u001b[0;34m)\u001b[0m\u001b[0;34m)\u001b[0m\u001b[0;34m\u001b[0m\u001b[0;34m\u001b[0m\u001b[0m\n",
      "\u001b[0;31mKeyboardInterrupt\u001b[0m: "
     ]
    }
   ],
   "source": [
    "lr = 0.001\n",
    "\n",
    "disc = Discriminative()\n",
    "disc_optimizer = optim.SGD(params=disc.parameters(), lr=lr, momentum=0.9)\n",
    "\n",
    "loss = nn.BCELoss()\n",
    "\n",
    "gen = Generative()\n",
    "gen_optimizer = optim.SGD(params=gen.parameters(), lr=lr, momentum=0.9)\n",
    "\n",
    "n_epochs = 10\n",
    "\n",
    "\n",
    "for e in range(n_epochs):\n",
    "    for i in range(50):\n",
    "        \n",
    "        real_images = traindata[(i*100):(i+1)*100]\n",
    "        \n",
    "        disc_optimizer.zero_grad()\n",
    "\n",
    "        # Define real_images, real_labels\n",
    "        real_labels = torch.full((real_images.size(0),1), 0)\n",
    "        # Generate noise and define fake_labels\n",
    "        noise_vectors = torch.randn(real_images.size(0), 16384, 1, 1)\n",
    "        fake_labels = torch.full((real_images.size(0),1), 1)\n",
    "\n",
    "        # Train discriminative network one step using batch of real images\n",
    "        #real_images = real_images + (torch.randn(real_images.size())/10)\n",
    "        output = disc(real_images)\n",
    "        real_loss = loss(output, real_labels)\n",
    "        real_loss.backward()\n",
    "        disc_real_avg = output.mean().item()\n",
    "\n",
    "        # Generate fake images from noise and pass them through disc. net.\n",
    "        fake_images = gen(noise_vectors)\n",
    "        #fake_images = fake_images + (torch.randn(fake_images.size())/10)\n",
    "        output = disc(fake_images.detach())\n",
    "        fake_loss = loss(output, fake_labels)\n",
    "        fake_loss.backward()\n",
    "\n",
    "        # Aggregative real and fake loss and update weights\n",
    "        step_loss = real_loss + fake_loss\n",
    "        disc_fake_avg = output.mean().item()\n",
    "        disc_optimizer.step()\n",
    "\n",
    "        # Train generative network\n",
    "        gen_optimizer.zero_grad()\n",
    "\n",
    "        output = disc(fake_images)\n",
    "        gen_loss = loss(output, real_labels)\n",
    "        gen_loss.backward()\n",
    "        gen_avg = output.mean().item()\n",
    "        gen_optimizer.step()\n",
    "\n",
    "        if e % 1 == 0:\n",
    "            print(\"Epoch: \"+str(e+1)+\" | Disc. Loss: \"+str(step_loss.item())+\" | Gen. Loss: \"+str(gen_loss.item())+\n",
    "             \" | D(X): \"+str(disc_real_avg)+\" | D(G(Z)): \"+str(disc_fake_avg)+\" -> \"+str(gen_avg))\n"
   ]
  },
  {
   "cell_type": "code",
   "execution_count": null,
   "metadata": {},
   "outputs": [],
   "source": [
    "noise = torch.randn(50,16384,1,1)\n",
    "p = gen(noise)\n",
    "fig, axes = plt.subplots(10, 5, figsize=(32,32))\n",
    "\n",
    "for i,im in enumerate(axes.flat):\n",
    "    im.imshow(p[i].view(32,32,3).detach())\n"
   ]
  },
  {
   "cell_type": "code",
   "execution_count": null,
   "metadata": {},
   "outputs": [],
   "source": []
  },
  {
   "cell_type": "code",
   "execution_count": null,
   "metadata": {},
   "outputs": [],
   "source": []
  }
 ],
 "metadata": {
  "kernelspec": {
   "display_name": "Python 3",
   "language": "python",
   "name": "python3"
  },
  "language_info": {
   "codemirror_mode": {
    "name": "ipython",
    "version": 3
   },
   "file_extension": ".py",
   "mimetype": "text/x-python",
   "name": "python",
   "nbconvert_exporter": "python",
   "pygments_lexer": "ipython3",
   "version": "3.8.1"
  }
 },
 "nbformat": 4,
 "nbformat_minor": 4
}
